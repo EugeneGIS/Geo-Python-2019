{
 "cells": [
  {
   "cell_type": "code",
   "execution_count": 1,
   "id": "7a27c47c",
   "metadata": {},
   "outputs": [],
   "source": [
    "import pandas as pd"
   ]
  },
  {
   "cell_type": "code",
   "execution_count": 2,
   "id": "a61881e7",
   "metadata": {},
   "outputs": [],
   "source": [
    "# Read the file using pandas\n",
    "data = pd.read_csv('Kumpula-June-2016-w-metadata.txt')"
   ]
  },
  {
   "cell_type": "code",
   "execution_count": 3,
   "id": "f1a643cc",
   "metadata": {},
   "outputs": [
    {
     "name": "stdout",
     "output_type": "stream",
     "text": [
      "       # Data file contents: Daily temperatures (mean            min  \\\n",
      "0                 #                     for June 1-30           2016   \n",
      "1   # Data source: https://www.ncdc.noaa.gov/cdo-w...            NaN   \n",
      "2   # Data processing: Extracted temperatures from...   converted to   \n",
      "3           #                  comma-separated format            NaN   \n",
      "4                                                   #            NaN   \n",
      "5                          # David Whipp - 02.10.2017            NaN   \n",
      "6                                            YEARMODA           TEMP   \n",
      "7                                            20160601           65.5   \n",
      "8                                            20160602           65.8   \n",
      "9                                            20160603           68.4   \n",
      "10                                           20160604           57.5   \n",
      "11                                           20160605           51.4   \n",
      "12                                           20160606           52.2   \n",
      "13                                           20160607           56.9   \n",
      "14                                           20160608           54.2   \n",
      "15                                           20160609           49.4   \n",
      "16                                           20160610           49.5   \n",
      "17                                           20160611           54.0   \n",
      "18                                           20160612           55.4   \n",
      "19                                           20160613           58.3   \n",
      "20                                           20160614           59.7   \n",
      "21                                           20160615           63.4   \n",
      "22                                           20160616           57.8   \n",
      "23                                           20160617           60.4   \n",
      "24                                           20160618           57.3   \n",
      "25                                           20160619           56.3   \n",
      "26                                           20160620           59.3   \n",
      "27                                           20160621           62.6   \n",
      "28                                           20160622           61.7   \n",
      "29                                           20160623           60.9   \n",
      "30                                           20160624           61.1   \n",
      "31                                           20160625           65.7   \n",
      "32                                           20160626           69.6   \n",
      "33                                           20160627           60.7   \n",
      "34                                           20160628           65.4   \n",
      "35                                           20160629           65.8   \n",
      "36                                           20160630           65.7   \n",
      "\n",
      "    max) for Kumpula  Helsinki  \n",
      "0                NaN       NaN  \n",
      "1                NaN       NaN  \n",
      "2                NaN       NaN  \n",
      "3                NaN       NaN  \n",
      "4                NaN       NaN  \n",
      "5                NaN       NaN  \n",
      "6                MAX       MIN  \n",
      "7               73.6      54.7  \n",
      "8               80.8      55.0  \n",
      "9                NaN      55.6  \n",
      "10              70.9      47.3  \n",
      "11              58.3      43.2  \n",
      "12              59.7      42.8  \n",
      "13              65.1      45.9  \n",
      "14               NaN      47.5  \n",
      "15              54.1      45.7  \n",
      "16              55.9      43.0  \n",
      "17              62.1      41.7  \n",
      "18              64.2      46.0  \n",
      "19              68.2      47.3  \n",
      "20              67.8      47.8  \n",
      "21              70.3      49.3  \n",
      "22              67.5      55.6  \n",
      "23              70.7      55.9  \n",
      "24               NaN      54.0  \n",
      "25              59.2      54.1  \n",
      "26              69.1      52.2  \n",
      "27              71.4      50.4  \n",
      "28              70.2      55.4  \n",
      "29              67.1      54.9  \n",
      "30              68.9      56.7  \n",
      "31              75.4      57.9  \n",
      "32              77.7      60.3  \n",
      "33              70.0       NaN  \n",
      "34              73.0      55.8  \n",
      "35              73.2       NaN  \n",
      "36              72.7      59.2  \n"
     ]
    }
   ],
   "source": [
    "print(data)"
   ]
  },
  {
   "cell_type": "code",
   "execution_count": 4,
   "id": "dbe02330",
   "metadata": {},
   "outputs": [
    {
     "name": "stdout",
     "output_type": "stream",
     "text": [
      "    YEARMODA  TEMP   MAX   MIN\n",
      "0   20160601  65.5  73.6  54.7\n",
      "1   20160602  65.8  80.8  55.0\n",
      "2   20160603  68.4   NaN  55.6\n",
      "3   20160604  57.5  70.9  47.3\n",
      "4   20160605  51.4  58.3  43.2\n",
      "5   20160606  52.2  59.7  42.8\n",
      "6   20160607  56.9  65.1  45.9\n",
      "7   20160608  54.2   NaN  47.5\n",
      "8   20160609  49.4  54.1  45.7\n",
      "9   20160610  49.5  55.9  43.0\n",
      "10  20160611  54.0  62.1  41.7\n",
      "11  20160612  55.4  64.2  46.0\n",
      "12  20160613  58.3  68.2  47.3\n",
      "13  20160614  59.7  67.8  47.8\n",
      "14  20160615  63.4  70.3  49.3\n",
      "15  20160616  57.8  67.5  55.6\n",
      "16  20160617  60.4  70.7  55.9\n",
      "17  20160618  57.3   NaN  54.0\n",
      "18  20160619  56.3  59.2  54.1\n",
      "19  20160620  59.3  69.1  52.2\n",
      "20  20160621  62.6  71.4  50.4\n",
      "21  20160622  61.7  70.2  55.4\n",
      "22  20160623  60.9  67.1  54.9\n",
      "23  20160624  61.1  68.9  56.7\n",
      "24  20160625  65.7  75.4  57.9\n",
      "25  20160626  69.6  77.7  60.3\n",
      "26  20160627  60.7  70.0   NaN\n",
      "27  20160628  65.4  73.0  55.8\n",
      "28  20160629  65.8  73.2   NaN\n",
      "29  20160630  65.7  72.7  59.2\n"
     ]
    }
   ],
   "source": [
    "data = pd.read_csv('Kumpula-June-2016-w-metadata.txt', skiprows=8)\n",
    "print(data)"
   ]
  },
  {
   "cell_type": "code",
   "execution_count": 5,
   "id": "096898e5",
   "metadata": {},
   "outputs": [
    {
     "data": {
      "text/html": [
       "<div>\n",
       "<style scoped>\n",
       "    .dataframe tbody tr th:only-of-type {\n",
       "        vertical-align: middle;\n",
       "    }\n",
       "\n",
       "    .dataframe tbody tr th {\n",
       "        vertical-align: top;\n",
       "    }\n",
       "\n",
       "    .dataframe thead th {\n",
       "        text-align: right;\n",
       "    }\n",
       "</style>\n",
       "<table border=\"1\" class=\"dataframe\">\n",
       "  <thead>\n",
       "    <tr style=\"text-align: right;\">\n",
       "      <th></th>\n",
       "      <th>YEARMODA</th>\n",
       "      <th>TEMP</th>\n",
       "      <th>MAX</th>\n",
       "      <th>MIN</th>\n",
       "    </tr>\n",
       "  </thead>\n",
       "  <tbody>\n",
       "    <tr>\n",
       "      <th>0</th>\n",
       "      <td>20160601</td>\n",
       "      <td>65.5</td>\n",
       "      <td>73.6</td>\n",
       "      <td>54.7</td>\n",
       "    </tr>\n",
       "    <tr>\n",
       "      <th>1</th>\n",
       "      <td>20160602</td>\n",
       "      <td>65.8</td>\n",
       "      <td>80.8</td>\n",
       "      <td>55.0</td>\n",
       "    </tr>\n",
       "    <tr>\n",
       "      <th>2</th>\n",
       "      <td>20160603</td>\n",
       "      <td>68.4</td>\n",
       "      <td>NaN</td>\n",
       "      <td>55.6</td>\n",
       "    </tr>\n",
       "    <tr>\n",
       "      <th>3</th>\n",
       "      <td>20160604</td>\n",
       "      <td>57.5</td>\n",
       "      <td>70.9</td>\n",
       "      <td>47.3</td>\n",
       "    </tr>\n",
       "    <tr>\n",
       "      <th>4</th>\n",
       "      <td>20160605</td>\n",
       "      <td>51.4</td>\n",
       "      <td>58.3</td>\n",
       "      <td>43.2</td>\n",
       "    </tr>\n",
       "  </tbody>\n",
       "</table>\n",
       "</div>"
      ],
      "text/plain": [
       "   YEARMODA  TEMP   MAX   MIN\n",
       "0  20160601  65.5  73.6  54.7\n",
       "1  20160602  65.8  80.8  55.0\n",
       "2  20160603  68.4   NaN  55.6\n",
       "3  20160604  57.5  70.9  47.3\n",
       "4  20160605  51.4  58.3  43.2"
      ]
     },
     "execution_count": 5,
     "metadata": {},
     "output_type": "execute_result"
    }
   ],
   "source": [
    "data.head()"
   ]
  },
  {
   "cell_type": "code",
   "execution_count": 6,
   "id": "43684ad6",
   "metadata": {},
   "outputs": [
    {
     "data": {
      "text/html": [
       "<div>\n",
       "<style scoped>\n",
       "    .dataframe tbody tr th:only-of-type {\n",
       "        vertical-align: middle;\n",
       "    }\n",
       "\n",
       "    .dataframe tbody tr th {\n",
       "        vertical-align: top;\n",
       "    }\n",
       "\n",
       "    .dataframe thead th {\n",
       "        text-align: right;\n",
       "    }\n",
       "</style>\n",
       "<table border=\"1\" class=\"dataframe\">\n",
       "  <thead>\n",
       "    <tr style=\"text-align: right;\">\n",
       "      <th></th>\n",
       "      <th>YEARMODA</th>\n",
       "      <th>TEMP</th>\n",
       "      <th>MAX</th>\n",
       "      <th>MIN</th>\n",
       "    </tr>\n",
       "  </thead>\n",
       "  <tbody>\n",
       "    <tr>\n",
       "      <th>25</th>\n",
       "      <td>20160626</td>\n",
       "      <td>69.6</td>\n",
       "      <td>77.7</td>\n",
       "      <td>60.3</td>\n",
       "    </tr>\n",
       "    <tr>\n",
       "      <th>26</th>\n",
       "      <td>20160627</td>\n",
       "      <td>60.7</td>\n",
       "      <td>70.0</td>\n",
       "      <td>NaN</td>\n",
       "    </tr>\n",
       "    <tr>\n",
       "      <th>27</th>\n",
       "      <td>20160628</td>\n",
       "      <td>65.4</td>\n",
       "      <td>73.0</td>\n",
       "      <td>55.8</td>\n",
       "    </tr>\n",
       "    <tr>\n",
       "      <th>28</th>\n",
       "      <td>20160629</td>\n",
       "      <td>65.8</td>\n",
       "      <td>73.2</td>\n",
       "      <td>NaN</td>\n",
       "    </tr>\n",
       "    <tr>\n",
       "      <th>29</th>\n",
       "      <td>20160630</td>\n",
       "      <td>65.7</td>\n",
       "      <td>72.7</td>\n",
       "      <td>59.2</td>\n",
       "    </tr>\n",
       "  </tbody>\n",
       "</table>\n",
       "</div>"
      ],
      "text/plain": [
       "    YEARMODA  TEMP   MAX   MIN\n",
       "25  20160626  69.6  77.7  60.3\n",
       "26  20160627  60.7  70.0   NaN\n",
       "27  20160628  65.4  73.0  55.8\n",
       "28  20160629  65.8  73.2   NaN\n",
       "29  20160630  65.7  72.7  59.2"
      ]
     },
     "execution_count": 6,
     "metadata": {},
     "output_type": "execute_result"
    }
   ],
   "source": [
    "data.tail()"
   ]
  },
  {
   "cell_type": "code",
   "execution_count": 7,
   "id": "1fab7b97",
   "metadata": {},
   "outputs": [
    {
     "data": {
      "text/plain": [
       "pandas.core.frame.DataFrame"
      ]
     },
     "execution_count": 7,
     "metadata": {},
     "output_type": "execute_result"
    }
   ],
   "source": [
    "type(data)"
   ]
  },
  {
   "cell_type": "code",
   "execution_count": 8,
   "id": "8bca5ce7",
   "metadata": {},
   "outputs": [
    {
     "name": "stdout",
     "output_type": "stream",
     "text": [
      "data\t pd\t \n"
     ]
    }
   ],
   "source": [
    "# Display variable names:\n",
    "%who"
   ]
  },
  {
   "cell_type": "code",
   "execution_count": 9,
   "id": "86c8c2f2",
   "metadata": {},
   "outputs": [
    {
     "name": "stdout",
     "output_type": "stream",
     "text": [
      "Variable   Type         Data/Info\n",
      "---------------------------------\n",
      "data       DataFrame        YEARMODA  TEMP   MAX <...>0160630  65.7  72.7  59.2\n",
      "pd         module       <module 'pandas' from 'C:<...>es\\\\pandas\\\\__init__.py'>\n"
     ]
    }
   ],
   "source": [
    "# Display variable name, type and info\n",
    "%whos"
   ]
  },
  {
   "cell_type": "code",
   "execution_count": 10,
   "id": "6fd746b6",
   "metadata": {},
   "outputs": [
    {
     "name": "stdout",
     "output_type": "stream",
     "text": [
      "30\n"
     ]
    }
   ],
   "source": [
    "# Print number of rows using len()-function\n",
    "print(len(data))"
   ]
  },
  {
   "cell_type": "code",
   "execution_count": 11,
   "id": "c6bb0c45",
   "metadata": {},
   "outputs": [
    {
     "name": "stdout",
     "output_type": "stream",
     "text": [
      "(30, 4)\n"
     ]
    }
   ],
   "source": [
    "# Print dataframe shape\n",
    "print(data.shape)"
   ]
  },
  {
   "cell_type": "code",
   "execution_count": 12,
   "id": "bf77902c",
   "metadata": {},
   "outputs": [
    {
     "name": "stdout",
     "output_type": "stream",
     "text": [
      "['YEARMODA' 'TEMP' 'MAX' 'MIN']\n"
     ]
    }
   ],
   "source": [
    "#Print column values\n",
    "print(data.columns.values)"
   ]
  },
  {
   "cell_type": "code",
   "execution_count": 13,
   "id": "ab81c417",
   "metadata": {},
   "outputs": [
    {
     "name": "stdout",
     "output_type": "stream",
     "text": [
      "RangeIndex(start=0, stop=30, step=1)\n"
     ]
    }
   ],
   "source": [
    "#Print index\n",
    "print(data.index)"
   ]
  },
  {
   "cell_type": "code",
   "execution_count": 14,
   "id": "4a9d9294",
   "metadata": {},
   "outputs": [
    {
     "data": {
      "text/plain": [
       "30"
      ]
     },
     "execution_count": 14,
     "metadata": {},
     "output_type": "execute_result"
    }
   ],
   "source": [
    "#Check length of the index\n",
    "len(data.index)"
   ]
  },
  {
   "cell_type": "code",
   "execution_count": 15,
   "id": "eddf3722",
   "metadata": {},
   "outputs": [
    {
     "name": "stdout",
     "output_type": "stream",
     "text": [
      "YEARMODA      int64\n",
      "TEMP        float64\n",
      "MAX         float64\n",
      "MIN         float64\n",
      "dtype: object\n"
     ]
    }
   ],
   "source": [
    "# Print data types\n",
    "print(data.dtypes)"
   ]
  },
  {
   "cell_type": "code",
   "execution_count": 16,
   "id": "991c44ba",
   "metadata": {},
   "outputs": [
    {
     "name": "stdout",
     "output_type": "stream",
     "text": [
      "    YEARMODA  TEMP\n",
      "0   20160601  65.5\n",
      "1   20160602  65.8\n",
      "2   20160603  68.4\n",
      "3   20160604  57.5\n",
      "4   20160605  51.4\n",
      "5   20160606  52.2\n",
      "6   20160607  56.9\n",
      "7   20160608  54.2\n",
      "8   20160609  49.4\n",
      "9   20160610  49.5\n",
      "10  20160611  54.0\n",
      "11  20160612  55.4\n",
      "12  20160613  58.3\n",
      "13  20160614  59.7\n",
      "14  20160615  63.4\n",
      "15  20160616  57.8\n",
      "16  20160617  60.4\n",
      "17  20160618  57.3\n",
      "18  20160619  56.3\n",
      "19  20160620  59.3\n",
      "20  20160621  62.6\n",
      "21  20160622  61.7\n",
      "22  20160623  60.9\n",
      "23  20160624  61.1\n",
      "24  20160625  65.7\n",
      "25  20160626  69.6\n",
      "26  20160627  60.7\n",
      "27  20160628  65.4\n",
      "28  20160629  65.8\n",
      "29  20160630  65.7\n"
     ]
    }
   ],
   "source": [
    "selection = data[['YEARMODA','TEMP']]\n",
    "print(selection)"
   ]
  },
  {
   "cell_type": "code",
   "execution_count": 17,
   "id": "b0fb04e7",
   "metadata": {},
   "outputs": [
    {
     "data": {
      "text/plain": [
       "pandas.core.frame.DataFrame"
      ]
     },
     "execution_count": 17,
     "metadata": {},
     "output_type": "execute_result"
    }
   ],
   "source": [
    "type(selection)"
   ]
  },
  {
   "cell_type": "code",
   "execution_count": 18,
   "id": "c35d9f98",
   "metadata": {},
   "outputs": [
    {
     "data": {
      "text/plain": [
       "(30, 2)"
      ]
     },
     "execution_count": 18,
     "metadata": {},
     "output_type": "execute_result"
    }
   ],
   "source": [
    "selection.shape"
   ]
  },
  {
   "cell_type": "code",
   "execution_count": 19,
   "id": "3ec43676",
   "metadata": {},
   "outputs": [
    {
     "data": {
      "text/plain": [
       "0     65.5\n",
       "1     65.8\n",
       "2     68.4\n",
       "3     57.5\n",
       "4     51.4\n",
       "5     52.2\n",
       "6     56.9\n",
       "7     54.2\n",
       "8     49.4\n",
       "9     49.5\n",
       "10    54.0\n",
       "11    55.4\n",
       "12    58.3\n",
       "13    59.7\n",
       "14    63.4\n",
       "15    57.8\n",
       "16    60.4\n",
       "17    57.3\n",
       "18    56.3\n",
       "19    59.3\n",
       "20    62.6\n",
       "21    61.7\n",
       "22    60.9\n",
       "23    61.1\n",
       "24    65.7\n",
       "25    69.6\n",
       "26    60.7\n",
       "27    65.4\n",
       "28    65.8\n",
       "29    65.7\n",
       "Name: TEMP, dtype: float64"
      ]
     },
     "execution_count": 19,
     "metadata": {},
     "output_type": "execute_result"
    }
   ],
   "source": [
    "data['TEMP']"
   ]
  },
  {
   "cell_type": "code",
   "execution_count": 20,
   "id": "2fa54e04",
   "metadata": {},
   "outputs": [
    {
     "data": {
      "text/plain": [
       "pandas.core.series.Series"
      ]
     },
     "execution_count": 20,
     "metadata": {},
     "output_type": "execute_result"
    }
   ],
   "source": [
    "# Check datatype of the column\n",
    "type(data['TEMP'])"
   ]
  },
  {
   "cell_type": "code",
   "execution_count": 21,
   "id": "767b39ae",
   "metadata": {},
   "outputs": [
    {
     "data": {
      "text/plain": [
       "59.73"
      ]
     },
     "execution_count": 21,
     "metadata": {},
     "output_type": "execute_result"
    }
   ],
   "source": [
    "# Check mean value of a column\n",
    "data['TEMP'].mean()"
   ]
  },
  {
   "cell_type": "code",
   "execution_count": 22,
   "id": "d56fc128",
   "metadata": {},
   "outputs": [
    {
     "data": {
      "text/plain": [
       "YEARMODA    2.016062e+07\n",
       "TEMP        5.973000e+01\n",
       "MAX         6.804074e+01\n",
       "MIN         5.125714e+01\n",
       "dtype: float64"
      ]
     },
     "execution_count": 22,
     "metadata": {},
     "output_type": "execute_result"
    }
   ],
   "source": [
    "# Check mean value for all columns\n",
    "data.mean()"
   ]
  },
  {
   "cell_type": "code",
   "execution_count": 23,
   "id": "1011629d",
   "metadata": {},
   "outputs": [
    {
     "data": {
      "text/html": [
       "<div>\n",
       "<style scoped>\n",
       "    .dataframe tbody tr th:only-of-type {\n",
       "        vertical-align: middle;\n",
       "    }\n",
       "\n",
       "    .dataframe tbody tr th {\n",
       "        vertical-align: top;\n",
       "    }\n",
       "\n",
       "    .dataframe thead th {\n",
       "        text-align: right;\n",
       "    }\n",
       "</style>\n",
       "<table border=\"1\" class=\"dataframe\">\n",
       "  <thead>\n",
       "    <tr style=\"text-align: right;\">\n",
       "      <th></th>\n",
       "      <th>YEARMODA</th>\n",
       "      <th>TEMP</th>\n",
       "      <th>MAX</th>\n",
       "      <th>MIN</th>\n",
       "    </tr>\n",
       "  </thead>\n",
       "  <tbody>\n",
       "    <tr>\n",
       "      <th>count</th>\n",
       "      <td>3.000000e+01</td>\n",
       "      <td>30.000000</td>\n",
       "      <td>27.000000</td>\n",
       "      <td>28.000000</td>\n",
       "    </tr>\n",
       "    <tr>\n",
       "      <th>mean</th>\n",
       "      <td>2.016062e+07</td>\n",
       "      <td>59.730000</td>\n",
       "      <td>68.040741</td>\n",
       "      <td>51.257143</td>\n",
       "    </tr>\n",
       "    <tr>\n",
       "      <th>std</th>\n",
       "      <td>8.803408e+00</td>\n",
       "      <td>5.475472</td>\n",
       "      <td>6.505575</td>\n",
       "      <td>5.498985</td>\n",
       "    </tr>\n",
       "    <tr>\n",
       "      <th>min</th>\n",
       "      <td>2.016060e+07</td>\n",
       "      <td>49.400000</td>\n",
       "      <td>54.100000</td>\n",
       "      <td>41.700000</td>\n",
       "    </tr>\n",
       "    <tr>\n",
       "      <th>25%</th>\n",
       "      <td>2.016061e+07</td>\n",
       "      <td>56.450000</td>\n",
       "      <td>64.650000</td>\n",
       "      <td>46.975000</td>\n",
       "    </tr>\n",
       "    <tr>\n",
       "      <th>50%</th>\n",
       "      <td>2.016062e+07</td>\n",
       "      <td>60.050000</td>\n",
       "      <td>69.100000</td>\n",
       "      <td>53.100000</td>\n",
       "    </tr>\n",
       "    <tr>\n",
       "      <th>75%</th>\n",
       "      <td>2.016062e+07</td>\n",
       "      <td>64.900000</td>\n",
       "      <td>72.050000</td>\n",
       "      <td>55.600000</td>\n",
       "    </tr>\n",
       "    <tr>\n",
       "      <th>max</th>\n",
       "      <td>2.016063e+07</td>\n",
       "      <td>69.600000</td>\n",
       "      <td>80.800000</td>\n",
       "      <td>60.300000</td>\n",
       "    </tr>\n",
       "  </tbody>\n",
       "</table>\n",
       "</div>"
      ],
      "text/plain": [
       "           YEARMODA       TEMP        MAX        MIN\n",
       "count  3.000000e+01  30.000000  27.000000  28.000000\n",
       "mean   2.016062e+07  59.730000  68.040741  51.257143\n",
       "std    8.803408e+00   5.475472   6.505575   5.498985\n",
       "min    2.016060e+07  49.400000  54.100000  41.700000\n",
       "25%    2.016061e+07  56.450000  64.650000  46.975000\n",
       "50%    2.016062e+07  60.050000  69.100000  53.100000\n",
       "75%    2.016062e+07  64.900000  72.050000  55.600000\n",
       "max    2.016063e+07  69.600000  80.800000  60.300000"
      ]
     },
     "execution_count": 23,
     "metadata": {},
     "output_type": "execute_result"
    }
   ],
   "source": [
    "# Get descriptive statistics\n",
    "data.describe()"
   ]
  },
  {
   "cell_type": "code",
   "execution_count": 24,
   "id": "239fbb3f",
   "metadata": {},
   "outputs": [],
   "source": [
    "%matplotlib inline"
   ]
  },
  {
   "cell_type": "code",
   "execution_count": 25,
   "id": "d1bfa4f1",
   "metadata": {},
   "outputs": [
    {
     "data": {
      "text/plain": [
       "<AxesSubplot:>"
      ]
     },
     "execution_count": 25,
     "metadata": {},
     "output_type": "execute_result"
    },
    {
     "data": {
      "image/png": "[encoded data removed]",
      "text/plain": [
       "<Figure size 432x288 with 1 Axes>"
      ]
     },
     "metadata": {
      "needs_background": "light"
     },
     "output_type": "display_data"
    }
   ],
   "source": [
    "data[[\"TEMP\", \"MAX\", \"MIN\"]].plot()"
   ]
  },
  {
   "cell_type": "code",
   "execution_count": 26,
   "id": "cf116d17",
   "metadata": {},
   "outputs": [
    {
     "name": "stdout",
     "output_type": "stream",
     "text": [
      "0    4.0\n",
      "1    5.0\n",
      "2    6.0\n",
      "3    7.0\n",
      "dtype: float64\n"
     ]
    }
   ],
   "source": [
    "# Create Pandas Series from a list\n",
    "number_series = pd.Series([ 4, 5, 6, 7.0])\n",
    "print(number_series)"
   ]
  },
  {
   "cell_type": "code",
   "execution_count": 27,
   "id": "a04c5adf",
   "metadata": {},
   "outputs": [
    {
     "name": "stdout",
     "output_type": "stream",
     "text": [
      "a    4.0\n",
      "b    5.0\n",
      "c    6.0\n",
      "d    7.0\n",
      "dtype: float64\n"
     ]
    }
   ],
   "source": [
    "number_series = pd.Series([ 4, 5, 6, 7.0], index=['a','b','c','d'])\n",
    "print(number_series)"
   ]
  },
  {
   "cell_type": "code",
   "execution_count": 28,
   "id": "7b0aea0a",
   "metadata": {},
   "outputs": [
    {
     "data": {
      "text/plain": [
       "pandas.core.series.Series"
      ]
     },
     "execution_count": 28,
     "metadata": {},
     "output_type": "execute_result"
    }
   ],
   "source": [
    "type(number_series)"
   ]
  },
  {
   "cell_type": "code",
   "execution_count": 29,
   "id": "629d2a16",
   "metadata": {},
   "outputs": [
    {
     "data": {
      "text/html": [
       "<div>\n",
       "<style scoped>\n",
       "    .dataframe tbody tr th:only-of-type {\n",
       "        vertical-align: middle;\n",
       "    }\n",
       "\n",
       "    .dataframe tbody tr th {\n",
       "        vertical-align: top;\n",
       "    }\n",
       "\n",
       "    .dataframe thead th {\n",
       "        text-align: right;\n",
       "    }\n",
       "</style>\n",
       "<table border=\"1\" class=\"dataframe\">\n",
       "  <thead>\n",
       "    <tr style=\"text-align: right;\">\n",
       "      <th></th>\n",
       "      <th>station_name</th>\n",
       "      <th>lat</th>\n",
       "      <th>lon</th>\n",
       "    </tr>\n",
       "  </thead>\n",
       "  <tbody>\n",
       "    <tr>\n",
       "      <th>0</th>\n",
       "      <td>Hanko Russarö</td>\n",
       "      <td>59.77</td>\n",
       "      <td>22.95</td>\n",
       "    </tr>\n",
       "    <tr>\n",
       "      <th>1</th>\n",
       "      <td>Heinola Asemantaus</td>\n",
       "      <td>61.20</td>\n",
       "      <td>26.05</td>\n",
       "    </tr>\n",
       "    <tr>\n",
       "      <th>2</th>\n",
       "      <td>Helsinki Kaisaniemi</td>\n",
       "      <td>60.18</td>\n",
       "      <td>24.94</td>\n",
       "    </tr>\n",
       "    <tr>\n",
       "      <th>3</th>\n",
       "      <td>Helsinki Malmi airfield</td>\n",
       "      <td>60.25</td>\n",
       "      <td>25.05</td>\n",
       "    </tr>\n",
       "  </tbody>\n",
       "</table>\n",
       "</div>"
      ],
      "text/plain": [
       "              station_name    lat    lon\n",
       "0            Hanko Russarö  59.77  22.95\n",
       "1       Heinola Asemantaus  61.20  26.05\n",
       "2      Helsinki Kaisaniemi  60.18  24.94\n",
       "3  Helsinki Malmi airfield  60.25  25.05"
      ]
     },
     "execution_count": 29,
     "metadata": {},
     "output_type": "execute_result"
    }
   ],
   "source": [
    "# Station names\n",
    "stations = ['Hanko Russarö', 'Heinola Asemantaus', 'Helsinki Kaisaniemi', 'Helsinki Malmi airfield']\n",
    "\n",
    "# Latitude coordinates of Weather stations\n",
    "lats = [59.77, 61.2, 60.18, 60.25]\n",
    "\n",
    "# Longitude coordinates of Weather stations\n",
    "lons = [22.95, 26.05, 24.94, 25.05]\n",
    "\n",
    "new_data = pd.DataFrame(data = {\"station_name\" : stations, \"lat\" : lats, \"lon\" : lons})\n",
    "new_data"
   ]
  },
  {
   "cell_type": "code",
   "execution_count": 30,
   "id": "d1aff3fd",
   "metadata": {},
   "outputs": [
    {
     "data": {
      "text/plain": [
       "pandas.core.frame.DataFrame"
      ]
     },
     "execution_count": 30,
     "metadata": {},
     "output_type": "execute_result"
    }
   ],
   "source": [
    "type(new_data)"
   ]
  },
  {
   "cell_type": "code",
   "execution_count": 31,
   "id": "17ba9ce0",
   "metadata": {},
   "outputs": [
    {
     "name": "stdout",
     "output_type": "stream",
     "text": [
      "Empty DataFrame\n",
      "Columns: []\n",
      "Index: []\n"
     ]
    }
   ],
   "source": [
    "df = pd.DataFrame()\n",
    "print(df)"
   ]
  },
  {
   "cell_type": "code",
   "execution_count": 1,
   "id": "4857d85f",
   "metadata": {},
   "outputs": [
    {
     "data": {
      "text/html": [
       "<div>\n",
       "<style scoped>\n",
       "    .dataframe tbody tr th:only-of-type {\n",
       "        vertical-align: middle;\n",
       "    }\n",
       "\n",
       "    .dataframe tbody tr th {\n",
       "        vertical-align: top;\n",
       "    }\n",
       "\n",
       "    .dataframe thead th {\n",
       "        text-align: right;\n",
       "    }\n",
       "</style>\n",
       "<table border=\"1\" class=\"dataframe\">\n",
       "  <thead>\n",
       "    <tr style=\"text-align: right;\">\n",
       "      <th></th>\n",
       "      <th>YEARMODA</th>\n",
       "      <th>TEMP</th>\n",
       "      <th>MAX</th>\n",
       "      <th>MIN</th>\n",
       "    </tr>\n",
       "  </thead>\n",
       "  <tbody>\n",
       "    <tr>\n",
       "      <th>0</th>\n",
       "      <td>20160601</td>\n",
       "      <td>65.5</td>\n",
       "      <td>73.6</td>\n",
       "      <td>54.7</td>\n",
       "    </tr>\n",
       "    <tr>\n",
       "      <th>1</th>\n",
       "      <td>20160602</td>\n",
       "      <td>65.8</td>\n",
       "      <td>80.8</td>\n",
       "      <td>55.0</td>\n",
       "    </tr>\n",
       "    <tr>\n",
       "      <th>2</th>\n",
       "      <td>20160603</td>\n",
       "      <td>68.4</td>\n",
       "      <td>NaN</td>\n",
       "      <td>55.6</td>\n",
       "    </tr>\n",
       "    <tr>\n",
       "      <th>3</th>\n",
       "      <td>20160604</td>\n",
       "      <td>57.5</td>\n",
       "      <td>70.9</td>\n",
       "      <td>47.3</td>\n",
       "    </tr>\n",
       "    <tr>\n",
       "      <th>4</th>\n",
       "      <td>20160605</td>\n",
       "      <td>51.4</td>\n",
       "      <td>58.3</td>\n",
       "      <td>43.2</td>\n",
       "    </tr>\n",
       "  </tbody>\n",
       "</table>\n",
       "</div>"
      ],
      "text/plain": [
       "   YEARMODA  TEMP   MAX   MIN\n",
       "0  20160601  65.5  73.6  54.7\n",
       "1  20160602  65.8  80.8  55.0\n",
       "2  20160603  68.4   NaN  55.6\n",
       "3  20160604  57.5  70.9  47.3\n",
       "4  20160605  51.4  58.3  43.2"
      ]
     },
     "execution_count": 1,
     "metadata": {},
     "output_type": "execute_result"
    }
   ],
   "source": [
    "import pandas as pd\n",
    "fp = 'Kumpula-June-2016-w-metadata.txt'\n",
    "data = pd.read_csv(fp, sep=',', skiprows=8)\n",
    "data.head()"
   ]
  },
  {
   "cell_type": "code",
   "execution_count": 2,
   "id": "96788431",
   "metadata": {},
   "outputs": [
    {
     "name": "stdout",
     "output_type": "stream",
     "text": [
      "    YEARMODA  TEMP   MAX   MIN  DIFF\n",
      "0   20160601  65.5  73.6  54.7   0.0\n",
      "1   20160602  65.8  80.8  55.0   0.0\n",
      "2   20160603  68.4   NaN  55.6   0.0\n",
      "3   20160604  57.5  70.9  47.3   0.0\n",
      "4   20160605  51.4  58.3  43.2   0.0\n",
      "5   20160606  52.2  59.7  42.8   0.0\n",
      "6   20160607  56.9  65.1  45.9   0.0\n",
      "7   20160608  54.2   NaN  47.5   0.0\n",
      "8   20160609  49.4  54.1  45.7   0.0\n",
      "9   20160610  49.5  55.9  43.0   0.0\n",
      "10  20160611  54.0  62.1  41.7   0.0\n",
      "11  20160612  55.4  64.2  46.0   0.0\n",
      "12  20160613  58.3  68.2  47.3   0.0\n",
      "13  20160614  59.7  67.8  47.8   0.0\n",
      "14  20160615  63.4  70.3  49.3   0.0\n",
      "15  20160616  57.8  67.5  55.6   0.0\n",
      "16  20160617  60.4  70.7  55.9   0.0\n",
      "17  20160618  57.3   NaN  54.0   0.0\n",
      "18  20160619  56.3  59.2  54.1   0.0\n",
      "19  20160620  59.3  69.1  52.2   0.0\n",
      "20  20160621  62.6  71.4  50.4   0.0\n",
      "21  20160622  61.7  70.2  55.4   0.0\n",
      "22  20160623  60.9  67.1  54.9   0.0\n",
      "23  20160624  61.1  68.9  56.7   0.0\n",
      "24  20160625  65.7  75.4  57.9   0.0\n",
      "25  20160626  69.6  77.7  60.3   0.0\n",
      "26  20160627  60.7  70.0   NaN   0.0\n",
      "27  20160628  65.4  73.0  55.8   0.0\n",
      "28  20160629  65.8  73.2   NaN   0.0\n",
      "29  20160630  65.7  72.7  59.2   0.0\n"
     ]
    }
   ],
   "source": [
    "# Define a new column \"DIFF\"\n",
    "data['DIFF'] = 0.0\n",
    "\n",
    "# Print the dataframe\n",
    "print(data)"
   ]
  },
  {
   "cell_type": "code",
   "execution_count": 3,
   "id": "47a4efd5",
   "metadata": {},
   "outputs": [
    {
     "name": "stdout",
     "output_type": "stream",
     "text": [
      "   YEARMODA  TEMP   MAX   MIN  DIFF\n",
      "0  20160601  65.5  73.6  54.7  18.9\n",
      "1  20160602  65.8  80.8  55.0  25.8\n",
      "2  20160603  68.4   NaN  55.6   NaN\n",
      "3  20160604  57.5  70.9  47.3  23.6\n",
      "4  20160605  51.4  58.3  43.2  15.1\n"
     ]
    }
   ],
   "source": [
    "# Check datatypes\n",
    "data['DIFF'].dtypes\n",
    "\n",
    "#Calculate max min difference\n",
    "data['DIFF'] = data['MAX'] - data['MIN']\n",
    "\n",
    "# Check the result\n",
    "print(data.head())"
   ]
  },
  {
   "cell_type": "code",
   "execution_count": 4,
   "id": "538d45df",
   "metadata": {},
   "outputs": [
    {
     "name": "stdout",
     "output_type": "stream",
     "text": [
      "    YEARMODA  TEMP   MAX   MIN  DIFF  DIFF_MIN\n",
      "0   20160601  65.5  73.6  54.7  18.9      10.8\n",
      "1   20160602  65.8  80.8  55.0  25.8      10.8\n",
      "2   20160603  68.4   NaN  55.6   NaN      12.8\n",
      "3   20160604  57.5  70.9  47.3  23.6      10.2\n",
      "4   20160605  51.4  58.3  43.2  15.1       8.2\n",
      "5   20160606  52.2  59.7  42.8  16.9       9.4\n",
      "6   20160607  56.9  65.1  45.9  19.2      11.0\n",
      "7   20160608  54.2   NaN  47.5   NaN       6.7\n",
      "8   20160609  49.4  54.1  45.7   8.4       3.7\n",
      "9   20160610  49.5  55.9  43.0  12.9       6.5\n",
      "10  20160611  54.0  62.1  41.7  20.4      12.3\n",
      "11  20160612  55.4  64.2  46.0  18.2       9.4\n",
      "12  20160613  58.3  68.2  47.3  20.9      11.0\n",
      "13  20160614  59.7  67.8  47.8  20.0      11.9\n",
      "14  20160615  63.4  70.3  49.3  21.0      14.1\n",
      "15  20160616  57.8  67.5  55.6  11.9       2.2\n",
      "16  20160617  60.4  70.7  55.9  14.8       4.5\n",
      "17  20160618  57.3   NaN  54.0   NaN       3.3\n",
      "18  20160619  56.3  59.2  54.1   5.1       2.2\n",
      "19  20160620  59.3  69.1  52.2  16.9       7.1\n",
      "20  20160621  62.6  71.4  50.4  21.0      12.2\n",
      "21  20160622  61.7  70.2  55.4  14.8       6.3\n",
      "22  20160623  60.9  67.1  54.9  12.2       6.0\n",
      "23  20160624  61.1  68.9  56.7  12.2       4.4\n",
      "24  20160625  65.7  75.4  57.9  17.5       7.8\n",
      "25  20160626  69.6  77.7  60.3  17.4       9.3\n",
      "26  20160627  60.7  70.0   NaN   NaN       NaN\n",
      "27  20160628  65.4  73.0  55.8  17.2       9.6\n",
      "28  20160629  65.8  73.2   NaN   NaN       NaN\n",
      "29  20160630  65.7  72.7  59.2  13.5       6.5\n"
     ]
    }
   ],
   "source": [
    "# Calculate difference between temp and min column values\n",
    "data['DIFF_MIN'] = data['TEMP'] - data['MIN']\n",
    "\n",
    "# Print the dataframe\n",
    "print(data)"
   ]
  },
  {
   "cell_type": "code",
   "execution_count": 5,
   "id": "f617c9a4",
   "metadata": {},
   "outputs": [
    {
     "name": "stdout",
     "output_type": "stream",
     "text": [
      "   YEARMODA  TEMP   MAX   MIN  DIFF  DIFF_MIN  TEMP_CELSIUS\n",
      "0  20160601  65.5  73.6  54.7  18.9      10.8     18.611111\n",
      "1  20160602  65.8  80.8  55.0  25.8      10.8     18.777778\n",
      "2  20160603  68.4   NaN  55.6   NaN      12.8     20.222222\n",
      "3  20160604  57.5  70.9  47.3  23.6      10.2     14.166667\n",
      "4  20160605  51.4  58.3  43.2  15.1       8.2     10.777778\n"
     ]
    }
   ],
   "source": [
    "# Create a new column and convert temp fahrenheit to celsius:\n",
    "data['TEMP_CELSIUS'] = (data['TEMP'] - 32) / (9/5)\n",
    "\n",
    "#Check output\n",
    "print(data.head())"
   ]
  },
  {
   "cell_type": "code",
   "execution_count": 13,
   "id": "63b646da",
   "metadata": {},
   "outputs": [
    {
     "name": "stdout",
     "output_type": "stream",
     "text": [
      "   YEARMODA  TEMP   MAX   MIN  DIFF  DIFF_MIN  TEMP_CELSIUS  TEMP_KELVIN\n",
      "0  20160601  65.5  73.6  54.7  18.9      10.8     18.611111   291.761111\n",
      "1  20160602  65.8  80.8  55.0  25.8      10.8     18.777778   291.927778\n",
      "2  20160603  68.4   NaN  55.6   NaN      12.8     20.222222   293.372222\n",
      "3  20160604  57.5  70.9  47.3  23.6      10.2     14.166667   287.316667\n",
      "4  20160605  51.4  58.3  43.2  15.1       8.2     10.777778   283.927778\n"
     ]
    }
   ],
   "source": [
    "# Add column \"TEMP_KELVIN\"\n",
    "data['TEMP_KELVIN'] = data['TEMP_CELSIUS'] + 273.15\n",
    "\n",
    "#Check output\n",
    "print(data.head())"
   ]
  },
  {
   "cell_type": "code",
   "execution_count": 6,
   "id": "524192ad",
   "metadata": {},
   "outputs": [
    {
     "name": "stdout",
     "output_type": "stream",
     "text": [
      "   YEARMODA  TEMP   MAX   MIN  DIFF  DIFF_MIN  TEMP_CELSIUS\n",
      "0  20160601  65.5  73.6  54.7  18.9      10.8     18.611111\n",
      "1  20160602  65.8  80.8  55.0  25.8      10.8     18.777778\n",
      "2  20160603  68.4   NaN  55.6   NaN      12.8     20.222222\n",
      "3  20160604  57.5  70.9  47.3  23.6      10.2     14.166667\n",
      "4  20160605  51.4  58.3  43.2  15.1       8.2     10.777778\n"
     ]
    }
   ],
   "source": [
    "# Select first five rows of dataframe using index values\n",
    "selection = data[0:5]\n",
    "\n",
    "print(selection)"
   ]
  },
  {
   "cell_type": "code",
   "execution_count": 7,
   "id": "edaf576d",
   "metadata": {},
   "outputs": [
    {
     "name": "stdout",
     "output_type": "stream",
     "text": [
      "0    65.5\n",
      "1    65.8\n",
      "2    68.4\n",
      "3    57.5\n",
      "4    51.4\n",
      "5    52.2\n",
      "Name: TEMP, dtype: float64\n"
     ]
    }
   ],
   "source": [
    "# Select temp column values on rows 0-5\n",
    "selection = data.loc[0:5, 'TEMP']\n",
    "\n",
    "print(selection)"
   ]
  },
  {
   "cell_type": "code",
   "execution_count": 8,
   "id": "e9bc0987",
   "metadata": {},
   "outputs": [
    {
     "name": "stdout",
     "output_type": "stream",
     "text": [
      "   TEMP  TEMP_CELSIUS\n",
      "0  65.5     18.611111\n",
      "1  65.8     18.777778\n",
      "2  68.4     20.222222\n",
      "3  57.5     14.166667\n",
      "4  51.4     10.777778\n",
      "5  52.2     11.222222\n"
     ]
    }
   ],
   "source": [
    "# Select columns temp and temp_celsius on rows 0-5\n",
    "selection = data.loc[0:5, ['TEMP', 'TEMP_CELSIUS']]\n",
    "\n",
    "print(selection)"
   ]
  },
  {
   "cell_type": "code",
   "execution_count": 9,
   "id": "7d7a1c26",
   "metadata": {},
   "outputs": [
    {
     "name": "stdout",
     "output_type": "stream",
     "text": [
      "YEARMODA        2.016060e+07\n",
      "TEMP            5.140000e+01\n",
      "MAX             5.830000e+01\n",
      "MIN             4.320000e+01\n",
      "DIFF            1.510000e+01\n",
      "DIFF_MIN        8.200000e+00\n",
      "TEMP_CELSIUS    1.077778e+01\n",
      "Name: 4, dtype: float64\n"
     ]
    }
   ],
   "source": [
    "# Select one row using index\n",
    "selection = data.loc[4]\n",
    "\n",
    "print(selection)"
   ]
  },
  {
   "cell_type": "code",
   "execution_count": 10,
   "id": "3b72427d",
   "metadata": {},
   "outputs": [
    {
     "name": "stdout",
     "output_type": "stream",
     "text": [
      "51.4\n"
     ]
    }
   ],
   "source": [
    "#Print one attribute from the selected row\n",
    "print(selection['TEMP'])"
   ]
  },
  {
   "cell_type": "code",
   "execution_count": 31,
   "id": "062c3254",
   "metadata": {},
   "outputs": [
    {
     "name": "stdout",
     "output_type": "stream",
     "text": [
      "    TEMP_CELSIUS\n",
      "23     16.166667\n",
      "24     18.722222\n",
      "25     20.888889\n",
      "26     15.944444\n",
      "27     18.555556\n",
      "28     18.777778\n",
      "29     18.722222\n"
     ]
    }
   ],
   "source": [
    "# Mean temperature for the last seven days of June (use loc indexing to select the correct rows):\n",
    "selection2 = data.loc[23:29,['TEMP_CELSIUS']]\n",
    "print(selection2)"
   ]
  },
  {
   "cell_type": "code",
   "execution_count": 16,
   "id": "e87d8f5b",
   "metadata": {},
   "outputs": [
    {
     "data": {
      "text/plain": [
       "65.5"
      ]
     },
     "execution_count": 16,
     "metadata": {},
     "output_type": "execute_result"
    }
   ],
   "source": [
    "data.at[0, \"TEMP\"]"
   ]
  },
  {
   "cell_type": "code",
   "execution_count": 17,
   "id": "b0bafbf2",
   "metadata": {},
   "outputs": [
    {
     "data": {
      "text/html": [
       "<div>\n",
       "<style scoped>\n",
       "    .dataframe tbody tr th:only-of-type {\n",
       "        vertical-align: middle;\n",
       "    }\n",
       "\n",
       "    .dataframe tbody tr th {\n",
       "        vertical-align: top;\n",
       "    }\n",
       "\n",
       "    .dataframe thead th {\n",
       "        text-align: right;\n",
       "    }\n",
       "</style>\n",
       "<table border=\"1\" class=\"dataframe\">\n",
       "  <thead>\n",
       "    <tr style=\"text-align: right;\">\n",
       "      <th></th>\n",
       "      <th>YEARMODA</th>\n",
       "      <th>TEMP</th>\n",
       "    </tr>\n",
       "  </thead>\n",
       "  <tbody>\n",
       "    <tr>\n",
       "      <th>0</th>\n",
       "      <td>20160601</td>\n",
       "      <td>65.5</td>\n",
       "    </tr>\n",
       "    <tr>\n",
       "      <th>1</th>\n",
       "      <td>20160602</td>\n",
       "      <td>65.8</td>\n",
       "    </tr>\n",
       "    <tr>\n",
       "      <th>2</th>\n",
       "      <td>20160603</td>\n",
       "      <td>68.4</td>\n",
       "    </tr>\n",
       "    <tr>\n",
       "      <th>3</th>\n",
       "      <td>20160604</td>\n",
       "      <td>57.5</td>\n",
       "    </tr>\n",
       "    <tr>\n",
       "      <th>4</th>\n",
       "      <td>20160605</td>\n",
       "      <td>51.4</td>\n",
       "    </tr>\n",
       "  </tbody>\n",
       "</table>\n",
       "</div>"
      ],
      "text/plain": [
       "   YEARMODA  TEMP\n",
       "0  20160601  65.5\n",
       "1  20160602  65.8\n",
       "2  20160603  68.4\n",
       "3  20160604  57.5\n",
       "4  20160605  51.4"
      ]
     },
     "execution_count": 17,
     "metadata": {},
     "output_type": "execute_result"
    }
   ],
   "source": [
    "data.iloc[0:5:,0:2]"
   ]
  },
  {
   "cell_type": "code",
   "execution_count": 18,
   "id": "269fcaf6",
   "metadata": {},
   "outputs": [
    {
     "data": {
      "text/plain": [
       "65.5"
      ]
     },
     "execution_count": 18,
     "metadata": {},
     "output_type": "execute_result"
    }
   ],
   "source": [
    "data.iloc[0,1]"
   ]
  },
  {
   "cell_type": "code",
   "execution_count": 19,
   "id": "b5f09333",
   "metadata": {},
   "outputs": [
    {
     "data": {
      "text/plain": [
       "YEARMODA        2.016063e+07\n",
       "TEMP            6.570000e+01\n",
       "MAX             7.270000e+01\n",
       "MIN             5.920000e+01\n",
       "DIFF            1.350000e+01\n",
       "DIFF_MIN        6.500000e+00\n",
       "TEMP_CELSIUS    1.872222e+01\n",
       "TEMP_KELVIN     2.918722e+02\n",
       "Name: 29, dtype: float64"
      ]
     },
     "execution_count": 19,
     "metadata": {},
     "output_type": "execute_result"
    }
   ],
   "source": [
    "data.iloc[-1]"
   ]
  },
  {
   "cell_type": "code",
   "execution_count": 20,
   "id": "9612210d",
   "metadata": {},
   "outputs": [
    {
     "name": "stdout",
     "output_type": "stream",
     "text": [
      "    YEARMODA  TEMP   MAX   MIN  DIFF  DIFF_MIN  TEMP_CELSIUS  TEMP_KELVIN\n",
      "0   20160601  65.5  73.6  54.7  18.9      10.8     18.611111   291.761111\n",
      "1   20160602  65.8  80.8  55.0  25.8      10.8     18.777778   291.927778\n",
      "2   20160603  68.4   NaN  55.6   NaN      12.8     20.222222   293.372222\n",
      "13  20160614  59.7  67.8  47.8  20.0      11.9     15.388889   288.538889\n",
      "14  20160615  63.4  70.3  49.3  21.0      14.1     17.444444   290.594444\n",
      "16  20160617  60.4  70.7  55.9  14.8       4.5     15.777778   288.927778\n",
      "19  20160620  59.3  69.1  52.2  16.9       7.1     15.166667   288.316667\n",
      "20  20160621  62.6  71.4  50.4  21.0      12.2     17.000000   290.150000\n",
      "21  20160622  61.7  70.2  55.4  14.8       6.3     16.500000   289.650000\n",
      "22  20160623  60.9  67.1  54.9  12.2       6.0     16.055556   289.205556\n",
      "23  20160624  61.1  68.9  56.7  12.2       4.4     16.166667   289.316667\n",
      "24  20160625  65.7  75.4  57.9  17.5       7.8     18.722222   291.872222\n",
      "25  20160626  69.6  77.7  60.3  17.4       9.3     20.888889   294.038889\n",
      "26  20160627  60.7  70.0   NaN   NaN       NaN     15.944444   289.094444\n",
      "27  20160628  65.4  73.0  55.8  17.2       9.6     18.555556   291.705556\n",
      "28  20160629  65.8  73.2   NaN   NaN       NaN     18.777778   291.927778\n",
      "29  20160630  65.7  72.7  59.2  13.5       6.5     18.722222   291.872222\n"
     ]
    }
   ],
   "source": [
    "# Select rows with temp celsius higher than 15 degrees\n",
    "warm_temps = data.loc[data['TEMP_CELSIUS'] > 15]\n",
    "print(warm_temps)"
   ]
  },
  {
   "cell_type": "code",
   "execution_count": 21,
   "id": "9ed5bddd",
   "metadata": {},
   "outputs": [
    {
     "name": "stdout",
     "output_type": "stream",
     "text": [
      "    YEARMODA  TEMP   MAX   MIN  DIFF  DIFF_MIN  TEMP_CELSIUS  TEMP_KELVIN\n",
      "14  20160615  63.4  70.3  49.3  21.0      14.1     17.444444   290.594444\n",
      "16  20160617  60.4  70.7  55.9  14.8       4.5     15.777778   288.927778\n",
      "19  20160620  59.3  69.1  52.2  16.9       7.1     15.166667   288.316667\n",
      "20  20160621  62.6  71.4  50.4  21.0      12.2     17.000000   290.150000\n",
      "21  20160622  61.7  70.2  55.4  14.8       6.3     16.500000   289.650000\n",
      "22  20160623  60.9  67.1  54.9  12.2       6.0     16.055556   289.205556\n",
      "23  20160624  61.1  68.9  56.7  12.2       4.4     16.166667   289.316667\n",
      "24  20160625  65.7  75.4  57.9  17.5       7.8     18.722222   291.872222\n",
      "25  20160626  69.6  77.7  60.3  17.4       9.3     20.888889   294.038889\n",
      "26  20160627  60.7  70.0   NaN   NaN       NaN     15.944444   289.094444\n",
      "27  20160628  65.4  73.0  55.8  17.2       9.6     18.555556   291.705556\n",
      "28  20160629  65.8  73.2   NaN   NaN       NaN     18.777778   291.927778\n",
      "29  20160630  65.7  72.7  59.2  13.5       6.5     18.722222   291.872222\n"
     ]
    }
   ],
   "source": [
    "# Select rows with temp celsius higher than 15 degrees from late June 2016\n",
    "warm_temps = data.loc[(data['TEMP_CELSIUS'] > 15) & (data['YEARMODA'] >= 20160615)]\n",
    "print(warm_temps)"
   ]
  },
  {
   "cell_type": "code",
   "execution_count": 22,
   "id": "eff5dc82",
   "metadata": {},
   "outputs": [
    {
     "name": "stdout",
     "output_type": "stream",
     "text": [
      "    YEARMODA  TEMP   MAX   MIN  DIFF  DIFF_MIN  TEMP_CELSIUS  TEMP_KELVIN\n",
      "0   20160615  63.4  70.3  49.3  21.0      14.1     17.444444   290.594444\n",
      "1   20160617  60.4  70.7  55.9  14.8       4.5     15.777778   288.927778\n",
      "2   20160620  59.3  69.1  52.2  16.9       7.1     15.166667   288.316667\n",
      "3   20160621  62.6  71.4  50.4  21.0      12.2     17.000000   290.150000\n",
      "4   20160622  61.7  70.2  55.4  14.8       6.3     16.500000   289.650000\n",
      "5   20160623  60.9  67.1  54.9  12.2       6.0     16.055556   289.205556\n",
      "6   20160624  61.1  68.9  56.7  12.2       4.4     16.166667   289.316667\n",
      "7   20160625  65.7  75.4  57.9  17.5       7.8     18.722222   291.872222\n",
      "8   20160626  69.6  77.7  60.3  17.4       9.3     20.888889   294.038889\n",
      "9   20160627  60.7  70.0   NaN   NaN       NaN     15.944444   289.094444\n",
      "10  20160628  65.4  73.0  55.8  17.2       9.6     18.555556   291.705556\n",
      "11  20160629  65.8  73.2   NaN   NaN       NaN     18.777778   291.927778\n",
      "12  20160630  65.7  72.7  59.2  13.5       6.5     18.722222   291.872222\n"
     ]
    }
   ],
   "source": [
    "# Reset index\n",
    "warm_temps = warm_temps.reset_index(drop=True)\n",
    "print(warm_temps)"
   ]
  },
  {
   "cell_type": "code",
   "execution_count": 26,
   "id": "33108f80",
   "metadata": {},
   "outputs": [
    {
     "name": "stdout",
     "output_type": "stream",
     "text": [
      "    YEARMODA  TEMP   MAX   MIN  DIFF  DIFF_MIN  TEMP_CELSIUS  TEMP_KELVIN\n",
      "23  20160624  61.1  68.9  56.7  12.2       4.4     16.166667   289.316667\n",
      "24  20160625  65.7  75.4  57.9  17.5       7.8     18.722222   291.872222\n",
      "25  20160626  69.6  77.7  60.3  17.4       9.3     20.888889   294.038889\n",
      "26  20160627  60.7  70.0   NaN   NaN       NaN     15.944444   289.094444\n",
      "27  20160628  65.4  73.0  55.8  17.2       9.6     18.555556   291.705556\n",
      "28  20160629  65.8  73.2   NaN   NaN       NaN     18.777778   291.927778\n",
      "29  20160630  65.7  72.7  59.2  13.5       6.5     18.722222   291.872222\n"
     ]
    }
   ],
   "source": [
    "# Mean temperature for the last seven days of June (use a conditional statement to select the correct rows):\n",
    "selection3 = data.loc[(data['YEARMODA'] >= 20160624)]\n",
    "print(selection3)"
   ]
  },
  {
   "cell_type": "code",
   "execution_count": 32,
   "id": "94d4dbe3",
   "metadata": {},
   "outputs": [
    {
     "data": {
      "text/html": [
       "<div>\n",
       "<style scoped>\n",
       "    .dataframe tbody tr th:only-of-type {\n",
       "        vertical-align: middle;\n",
       "    }\n",
       "\n",
       "    .dataframe tbody tr th {\n",
       "        vertical-align: top;\n",
       "    }\n",
       "\n",
       "    .dataframe thead th {\n",
       "        text-align: right;\n",
       "    }\n",
       "</style>\n",
       "<table border=\"1\" class=\"dataframe\">\n",
       "  <thead>\n",
       "    <tr style=\"text-align: right;\">\n",
       "      <th></th>\n",
       "      <th>YEARMODA</th>\n",
       "      <th>TEMP</th>\n",
       "      <th>MAX</th>\n",
       "      <th>MIN</th>\n",
       "      <th>DIFF</th>\n",
       "      <th>DIFF_MIN</th>\n",
       "      <th>TEMP_CELSIUS</th>\n",
       "      <th>TEMP_KELVIN</th>\n",
       "    </tr>\n",
       "  </thead>\n",
       "  <tbody>\n",
       "    <tr>\n",
       "      <th>0</th>\n",
       "      <td>20160615</td>\n",
       "      <td>63.4</td>\n",
       "      <td>70.3</td>\n",
       "      <td>49.3</td>\n",
       "      <td>21.0</td>\n",
       "      <td>14.1</td>\n",
       "      <td>17.444444</td>\n",
       "      <td>290.594444</td>\n",
       "    </tr>\n",
       "    <tr>\n",
       "      <th>1</th>\n",
       "      <td>20160617</td>\n",
       "      <td>60.4</td>\n",
       "      <td>70.7</td>\n",
       "      <td>55.9</td>\n",
       "      <td>14.8</td>\n",
       "      <td>4.5</td>\n",
       "      <td>15.777778</td>\n",
       "      <td>288.927778</td>\n",
       "    </tr>\n",
       "    <tr>\n",
       "      <th>2</th>\n",
       "      <td>20160620</td>\n",
       "      <td>59.3</td>\n",
       "      <td>69.1</td>\n",
       "      <td>52.2</td>\n",
       "      <td>16.9</td>\n",
       "      <td>7.1</td>\n",
       "      <td>15.166667</td>\n",
       "      <td>288.316667</td>\n",
       "    </tr>\n",
       "    <tr>\n",
       "      <th>3</th>\n",
       "      <td>20160621</td>\n",
       "      <td>62.6</td>\n",
       "      <td>71.4</td>\n",
       "      <td>50.4</td>\n",
       "      <td>21.0</td>\n",
       "      <td>12.2</td>\n",
       "      <td>17.000000</td>\n",
       "      <td>290.150000</td>\n",
       "    </tr>\n",
       "    <tr>\n",
       "      <th>4</th>\n",
       "      <td>20160622</td>\n",
       "      <td>61.7</td>\n",
       "      <td>70.2</td>\n",
       "      <td>55.4</td>\n",
       "      <td>14.8</td>\n",
       "      <td>6.3</td>\n",
       "      <td>16.500000</td>\n",
       "      <td>289.650000</td>\n",
       "    </tr>\n",
       "    <tr>\n",
       "      <th>5</th>\n",
       "      <td>20160623</td>\n",
       "      <td>60.9</td>\n",
       "      <td>67.1</td>\n",
       "      <td>54.9</td>\n",
       "      <td>12.2</td>\n",
       "      <td>6.0</td>\n",
       "      <td>16.055556</td>\n",
       "      <td>289.205556</td>\n",
       "    </tr>\n",
       "    <tr>\n",
       "      <th>6</th>\n",
       "      <td>20160624</td>\n",
       "      <td>61.1</td>\n",
       "      <td>68.9</td>\n",
       "      <td>56.7</td>\n",
       "      <td>12.2</td>\n",
       "      <td>4.4</td>\n",
       "      <td>16.166667</td>\n",
       "      <td>289.316667</td>\n",
       "    </tr>\n",
       "    <tr>\n",
       "      <th>7</th>\n",
       "      <td>20160625</td>\n",
       "      <td>65.7</td>\n",
       "      <td>75.4</td>\n",
       "      <td>57.9</td>\n",
       "      <td>17.5</td>\n",
       "      <td>7.8</td>\n",
       "      <td>18.722222</td>\n",
       "      <td>291.872222</td>\n",
       "    </tr>\n",
       "    <tr>\n",
       "      <th>8</th>\n",
       "      <td>20160626</td>\n",
       "      <td>69.6</td>\n",
       "      <td>77.7</td>\n",
       "      <td>60.3</td>\n",
       "      <td>17.4</td>\n",
       "      <td>9.3</td>\n",
       "      <td>20.888889</td>\n",
       "      <td>294.038889</td>\n",
       "    </tr>\n",
       "    <tr>\n",
       "      <th>10</th>\n",
       "      <td>20160628</td>\n",
       "      <td>65.4</td>\n",
       "      <td>73.0</td>\n",
       "      <td>55.8</td>\n",
       "      <td>17.2</td>\n",
       "      <td>9.6</td>\n",
       "      <td>18.555556</td>\n",
       "      <td>291.705556</td>\n",
       "    </tr>\n",
       "    <tr>\n",
       "      <th>12</th>\n",
       "      <td>20160630</td>\n",
       "      <td>65.7</td>\n",
       "      <td>72.7</td>\n",
       "      <td>59.2</td>\n",
       "      <td>13.5</td>\n",
       "      <td>6.5</td>\n",
       "      <td>18.722222</td>\n",
       "      <td>291.872222</td>\n",
       "    </tr>\n",
       "  </tbody>\n",
       "</table>\n",
       "</div>"
      ],
      "text/plain": [
       "    YEARMODA  TEMP   MAX   MIN  DIFF  DIFF_MIN  TEMP_CELSIUS  TEMP_KELVIN\n",
       "0   20160615  63.4  70.3  49.3  21.0      14.1     17.444444   290.594444\n",
       "1   20160617  60.4  70.7  55.9  14.8       4.5     15.777778   288.927778\n",
       "2   20160620  59.3  69.1  52.2  16.9       7.1     15.166667   288.316667\n",
       "3   20160621  62.6  71.4  50.4  21.0      12.2     17.000000   290.150000\n",
       "4   20160622  61.7  70.2  55.4  14.8       6.3     16.500000   289.650000\n",
       "5   20160623  60.9  67.1  54.9  12.2       6.0     16.055556   289.205556\n",
       "6   20160624  61.1  68.9  56.7  12.2       4.4     16.166667   289.316667\n",
       "7   20160625  65.7  75.4  57.9  17.5       7.8     18.722222   291.872222\n",
       "8   20160626  69.6  77.7  60.3  17.4       9.3     20.888889   294.038889\n",
       "10  20160628  65.4  73.0  55.8  17.2       9.6     18.555556   291.705556\n",
       "12  20160630  65.7  72.7  59.2  13.5       6.5     18.722222   291.872222"
      ]
     },
     "execution_count": 32,
     "metadata": {},
     "output_type": "execute_result"
    }
   ],
   "source": [
    "# Drop no data values based on the MIN column\n",
    "warm_temps.dropna(subset=['MIN'])\n",
    "\n",
    "# warm_temps = warm_temps.dropna(subset=['MIN'])"
   ]
  },
  {
   "cell_type": "code",
   "execution_count": 33,
   "id": "3d6b7230",
   "metadata": {},
   "outputs": [
    {
     "data": {
      "text/html": [
       "<div>\n",
       "<style scoped>\n",
       "    .dataframe tbody tr th:only-of-type {\n",
       "        vertical-align: middle;\n",
       "    }\n",
       "\n",
       "    .dataframe tbody tr th {\n",
       "        vertical-align: top;\n",
       "    }\n",
       "\n",
       "    .dataframe thead th {\n",
       "        text-align: right;\n",
       "    }\n",
       "</style>\n",
       "<table border=\"1\" class=\"dataframe\">\n",
       "  <thead>\n",
       "    <tr style=\"text-align: right;\">\n",
       "      <th></th>\n",
       "      <th>YEARMODA</th>\n",
       "      <th>TEMP</th>\n",
       "      <th>MAX</th>\n",
       "      <th>MIN</th>\n",
       "      <th>DIFF</th>\n",
       "      <th>DIFF_MIN</th>\n",
       "      <th>TEMP_CELSIUS</th>\n",
       "      <th>TEMP_KELVIN</th>\n",
       "    </tr>\n",
       "  </thead>\n",
       "  <tbody>\n",
       "    <tr>\n",
       "      <th>0</th>\n",
       "      <td>20160615</td>\n",
       "      <td>63.4</td>\n",
       "      <td>70.3</td>\n",
       "      <td>49.3</td>\n",
       "      <td>21.0</td>\n",
       "      <td>14.1</td>\n",
       "      <td>17.444444</td>\n",
       "      <td>290.594444</td>\n",
       "    </tr>\n",
       "    <tr>\n",
       "      <th>1</th>\n",
       "      <td>20160617</td>\n",
       "      <td>60.4</td>\n",
       "      <td>70.7</td>\n",
       "      <td>55.9</td>\n",
       "      <td>14.8</td>\n",
       "      <td>4.5</td>\n",
       "      <td>15.777778</td>\n",
       "      <td>288.927778</td>\n",
       "    </tr>\n",
       "    <tr>\n",
       "      <th>2</th>\n",
       "      <td>20160620</td>\n",
       "      <td>59.3</td>\n",
       "      <td>69.1</td>\n",
       "      <td>52.2</td>\n",
       "      <td>16.9</td>\n",
       "      <td>7.1</td>\n",
       "      <td>15.166667</td>\n",
       "      <td>288.316667</td>\n",
       "    </tr>\n",
       "    <tr>\n",
       "      <th>3</th>\n",
       "      <td>20160621</td>\n",
       "      <td>62.6</td>\n",
       "      <td>71.4</td>\n",
       "      <td>50.4</td>\n",
       "      <td>21.0</td>\n",
       "      <td>12.2</td>\n",
       "      <td>17.000000</td>\n",
       "      <td>290.150000</td>\n",
       "    </tr>\n",
       "    <tr>\n",
       "      <th>4</th>\n",
       "      <td>20160622</td>\n",
       "      <td>61.7</td>\n",
       "      <td>70.2</td>\n",
       "      <td>55.4</td>\n",
       "      <td>14.8</td>\n",
       "      <td>6.3</td>\n",
       "      <td>16.500000</td>\n",
       "      <td>289.650000</td>\n",
       "    </tr>\n",
       "    <tr>\n",
       "      <th>5</th>\n",
       "      <td>20160623</td>\n",
       "      <td>60.9</td>\n",
       "      <td>67.1</td>\n",
       "      <td>54.9</td>\n",
       "      <td>12.2</td>\n",
       "      <td>6.0</td>\n",
       "      <td>16.055556</td>\n",
       "      <td>289.205556</td>\n",
       "    </tr>\n",
       "    <tr>\n",
       "      <th>6</th>\n",
       "      <td>20160624</td>\n",
       "      <td>61.1</td>\n",
       "      <td>68.9</td>\n",
       "      <td>56.7</td>\n",
       "      <td>12.2</td>\n",
       "      <td>4.4</td>\n",
       "      <td>16.166667</td>\n",
       "      <td>289.316667</td>\n",
       "    </tr>\n",
       "    <tr>\n",
       "      <th>7</th>\n",
       "      <td>20160625</td>\n",
       "      <td>65.7</td>\n",
       "      <td>75.4</td>\n",
       "      <td>57.9</td>\n",
       "      <td>17.5</td>\n",
       "      <td>7.8</td>\n",
       "      <td>18.722222</td>\n",
       "      <td>291.872222</td>\n",
       "    </tr>\n",
       "    <tr>\n",
       "      <th>8</th>\n",
       "      <td>20160626</td>\n",
       "      <td>69.6</td>\n",
       "      <td>77.7</td>\n",
       "      <td>60.3</td>\n",
       "      <td>17.4</td>\n",
       "      <td>9.3</td>\n",
       "      <td>20.888889</td>\n",
       "      <td>294.038889</td>\n",
       "    </tr>\n",
       "    <tr>\n",
       "      <th>9</th>\n",
       "      <td>20160627</td>\n",
       "      <td>60.7</td>\n",
       "      <td>70.0</td>\n",
       "      <td>-9999.0</td>\n",
       "      <td>-9999.0</td>\n",
       "      <td>-9999.0</td>\n",
       "      <td>15.944444</td>\n",
       "      <td>289.094444</td>\n",
       "    </tr>\n",
       "    <tr>\n",
       "      <th>10</th>\n",
       "      <td>20160628</td>\n",
       "      <td>65.4</td>\n",
       "      <td>73.0</td>\n",
       "      <td>55.8</td>\n",
       "      <td>17.2</td>\n",
       "      <td>9.6</td>\n",
       "      <td>18.555556</td>\n",
       "      <td>291.705556</td>\n",
       "    </tr>\n",
       "    <tr>\n",
       "      <th>11</th>\n",
       "      <td>20160629</td>\n",
       "      <td>65.8</td>\n",
       "      <td>73.2</td>\n",
       "      <td>-9999.0</td>\n",
       "      <td>-9999.0</td>\n",
       "      <td>-9999.0</td>\n",
       "      <td>18.777778</td>\n",
       "      <td>291.927778</td>\n",
       "    </tr>\n",
       "    <tr>\n",
       "      <th>12</th>\n",
       "      <td>20160630</td>\n",
       "      <td>65.7</td>\n",
       "      <td>72.7</td>\n",
       "      <td>59.2</td>\n",
       "      <td>13.5</td>\n",
       "      <td>6.5</td>\n",
       "      <td>18.722222</td>\n",
       "      <td>291.872222</td>\n",
       "    </tr>\n",
       "  </tbody>\n",
       "</table>\n",
       "</div>"
      ],
      "text/plain": [
       "    YEARMODA  TEMP   MAX     MIN    DIFF  DIFF_MIN  TEMP_CELSIUS  TEMP_KELVIN\n",
       "0   20160615  63.4  70.3    49.3    21.0      14.1     17.444444   290.594444\n",
       "1   20160617  60.4  70.7    55.9    14.8       4.5     15.777778   288.927778\n",
       "2   20160620  59.3  69.1    52.2    16.9       7.1     15.166667   288.316667\n",
       "3   20160621  62.6  71.4    50.4    21.0      12.2     17.000000   290.150000\n",
       "4   20160622  61.7  70.2    55.4    14.8       6.3     16.500000   289.650000\n",
       "5   20160623  60.9  67.1    54.9    12.2       6.0     16.055556   289.205556\n",
       "6   20160624  61.1  68.9    56.7    12.2       4.4     16.166667   289.316667\n",
       "7   20160625  65.7  75.4    57.9    17.5       7.8     18.722222   291.872222\n",
       "8   20160626  69.6  77.7    60.3    17.4       9.3     20.888889   294.038889\n",
       "9   20160627  60.7  70.0 -9999.0 -9999.0   -9999.0     15.944444   289.094444\n",
       "10  20160628  65.4  73.0    55.8    17.2       9.6     18.555556   291.705556\n",
       "11  20160629  65.8  73.2 -9999.0 -9999.0   -9999.0     18.777778   291.927778\n",
       "12  20160630  65.7  72.7    59.2    13.5       6.5     18.722222   291.872222"
      ]
     },
     "execution_count": 33,
     "metadata": {},
     "output_type": "execute_result"
    }
   ],
   "source": [
    "# Fill na values\n",
    "warm_temps.fillna(-9999)"
   ]
  },
  {
   "cell_type": "code",
   "execution_count": 34,
   "id": "1d590288",
   "metadata": {},
   "outputs": [
    {
     "name": "stdout",
     "output_type": "stream",
     "text": [
      "Original values:\n",
      "0    65.5\n",
      "1    65.8\n",
      "2    68.4\n",
      "3    57.5\n",
      "4    51.4\n",
      "Name: TEMP, dtype: float64\n"
     ]
    }
   ],
   "source": [
    "print(\"Original values:\")\n",
    "print(data['TEMP'].head())"
   ]
  },
  {
   "cell_type": "code",
   "execution_count": 35,
   "id": "4c811d9b",
   "metadata": {},
   "outputs": [
    {
     "name": "stdout",
     "output_type": "stream",
     "text": [
      "Truncated integer values:\n",
      "0    65\n",
      "1    65\n",
      "2    68\n",
      "3    57\n",
      "4    51\n",
      "Name: TEMP, dtype: int32\n"
     ]
    }
   ],
   "source": [
    "# The conversion simply drops the stuff to the right of the decimal point, so all values are rounded down to the nearest whole number.\n",
    "print(\"Truncated integer values:\")\n",
    "print(data['TEMP'].astype(int).head())"
   ]
  },
  {
   "cell_type": "code",
   "execution_count": 36,
   "id": "22f78108",
   "metadata": {},
   "outputs": [
    {
     "name": "stdout",
     "output_type": "stream",
     "text": [
      "Rounded integer values:\n",
      "0    66\n",
      "1    66\n",
      "2    68\n",
      "3    58\n",
      "4    51\n",
      "Name: TEMP, dtype: int32\n"
     ]
    }
   ],
   "source": [
    "# Chaining the round and type conversion functions solves this issue as the .round(0).astype(int) command first rounds the values with zero decimals and then converts those values into integers.\n",
    "print(\"Rounded integer values:\")\n",
    "print(data['TEMP'].round(0).astype(int).head())"
   ]
  },
  {
   "cell_type": "code",
   "execution_count": 37,
   "id": "a97ac76c",
   "metadata": {},
   "outputs": [
    {
     "data": {
      "text/plain": [
       "array([65.5, 65.8, 68.4, 57.5, 51.4, 52.2, 56.9, 54.2, 49.4, 49.5, 54. ,\n",
       "       55.4, 58.3, 59.7, 63.4, 57.8, 60.4, 57.3, 56.3, 59.3, 62.6, 61.7,\n",
       "       60.9, 61.1, 65.7, 69.6, 60.7, 65.4])"
      ]
     },
     "execution_count": 37,
     "metadata": {},
     "output_type": "execute_result"
    }
   ],
   "source": [
    "# Get unique celsius values\n",
    "unique = data['TEMP'].unique()\n",
    "unique"
   ]
  },
  {
   "cell_type": "code",
   "execution_count": 38,
   "id": "1a8c4d9a",
   "metadata": {},
   "outputs": [
    {
     "name": "stdout",
     "output_type": "stream",
     "text": [
      "[65.5, 65.8, 68.4, 57.5, 51.4, 52.2, 56.9, 54.2, 49.4, 49.5, 54.0, 55.4, 58.3, 59.7, 63.4, 57.8, 60.4, 57.3, 56.3, 59.3, 62.6, 61.7, 60.9, 61.1, 65.7, 69.6, 60.7, 65.4]\n"
     ]
    }
   ],
   "source": [
    "# unique values as list\n",
    "print(list(unique))"
   ]
  },
  {
   "cell_type": "code",
   "execution_count": 39,
   "id": "a6016e76",
   "metadata": {},
   "outputs": [
    {
     "name": "stdout",
     "output_type": "stream",
     "text": [
      "There were 28 days with unique mean temperatures in June 2016.\n"
     ]
    }
   ],
   "source": [
    "# Number of unique values\n",
    "unique_temps = len(unique)\n",
    "print(\"There were\", unique_temps, \"days with unique mean temperatures in June 2016.\")"
   ]
  },
  {
   "cell_type": "code",
   "execution_count": 40,
   "id": "c0dd7f3b",
   "metadata": {},
   "outputs": [
    {
     "data": {
      "text/html": [
       "<div>\n",
       "<style scoped>\n",
       "    .dataframe tbody tr th:only-of-type {\n",
       "        vertical-align: middle;\n",
       "    }\n",
       "\n",
       "    .dataframe tbody tr th {\n",
       "        vertical-align: top;\n",
       "    }\n",
       "\n",
       "    .dataframe thead th {\n",
       "        text-align: right;\n",
       "    }\n",
       "</style>\n",
       "<table border=\"1\" class=\"dataframe\">\n",
       "  <thead>\n",
       "    <tr style=\"text-align: right;\">\n",
       "      <th></th>\n",
       "      <th>YEARMODA</th>\n",
       "      <th>TEMP</th>\n",
       "      <th>MAX</th>\n",
       "      <th>MIN</th>\n",
       "      <th>DIFF</th>\n",
       "      <th>DIFF_MIN</th>\n",
       "      <th>TEMP_CELSIUS</th>\n",
       "      <th>TEMP_KELVIN</th>\n",
       "    </tr>\n",
       "  </thead>\n",
       "  <tbody>\n",
       "    <tr>\n",
       "      <th>8</th>\n",
       "      <td>20160609</td>\n",
       "      <td>49.4</td>\n",
       "      <td>54.1</td>\n",
       "      <td>45.7</td>\n",
       "      <td>8.4</td>\n",
       "      <td>3.7</td>\n",
       "      <td>9.666667</td>\n",
       "      <td>282.816667</td>\n",
       "    </tr>\n",
       "    <tr>\n",
       "      <th>9</th>\n",
       "      <td>20160610</td>\n",
       "      <td>49.5</td>\n",
       "      <td>55.9</td>\n",
       "      <td>43.0</td>\n",
       "      <td>12.9</td>\n",
       "      <td>6.5</td>\n",
       "      <td>9.722222</td>\n",
       "      <td>282.872222</td>\n",
       "    </tr>\n",
       "    <tr>\n",
       "      <th>4</th>\n",
       "      <td>20160605</td>\n",
       "      <td>51.4</td>\n",
       "      <td>58.3</td>\n",
       "      <td>43.2</td>\n",
       "      <td>15.1</td>\n",
       "      <td>8.2</td>\n",
       "      <td>10.777778</td>\n",
       "      <td>283.927778</td>\n",
       "    </tr>\n",
       "    <tr>\n",
       "      <th>5</th>\n",
       "      <td>20160606</td>\n",
       "      <td>52.2</td>\n",
       "      <td>59.7</td>\n",
       "      <td>42.8</td>\n",
       "      <td>16.9</td>\n",
       "      <td>9.4</td>\n",
       "      <td>11.222222</td>\n",
       "      <td>284.372222</td>\n",
       "    </tr>\n",
       "    <tr>\n",
       "      <th>10</th>\n",
       "      <td>20160611</td>\n",
       "      <td>54.0</td>\n",
       "      <td>62.1</td>\n",
       "      <td>41.7</td>\n",
       "      <td>20.4</td>\n",
       "      <td>12.3</td>\n",
       "      <td>12.222222</td>\n",
       "      <td>285.372222</td>\n",
       "    </tr>\n",
       "    <tr>\n",
       "      <th>7</th>\n",
       "      <td>20160608</td>\n",
       "      <td>54.2</td>\n",
       "      <td>NaN</td>\n",
       "      <td>47.5</td>\n",
       "      <td>NaN</td>\n",
       "      <td>6.7</td>\n",
       "      <td>12.333333</td>\n",
       "      <td>285.483333</td>\n",
       "    </tr>\n",
       "    <tr>\n",
       "      <th>11</th>\n",
       "      <td>20160612</td>\n",
       "      <td>55.4</td>\n",
       "      <td>64.2</td>\n",
       "      <td>46.0</td>\n",
       "      <td>18.2</td>\n",
       "      <td>9.4</td>\n",
       "      <td>13.000000</td>\n",
       "      <td>286.150000</td>\n",
       "    </tr>\n",
       "    <tr>\n",
       "      <th>18</th>\n",
       "      <td>20160619</td>\n",
       "      <td>56.3</td>\n",
       "      <td>59.2</td>\n",
       "      <td>54.1</td>\n",
       "      <td>5.1</td>\n",
       "      <td>2.2</td>\n",
       "      <td>13.500000</td>\n",
       "      <td>286.650000</td>\n",
       "    </tr>\n",
       "    <tr>\n",
       "      <th>6</th>\n",
       "      <td>20160607</td>\n",
       "      <td>56.9</td>\n",
       "      <td>65.1</td>\n",
       "      <td>45.9</td>\n",
       "      <td>19.2</td>\n",
       "      <td>11.0</td>\n",
       "      <td>13.833333</td>\n",
       "      <td>286.983333</td>\n",
       "    </tr>\n",
       "    <tr>\n",
       "      <th>17</th>\n",
       "      <td>20160618</td>\n",
       "      <td>57.3</td>\n",
       "      <td>NaN</td>\n",
       "      <td>54.0</td>\n",
       "      <td>NaN</td>\n",
       "      <td>3.3</td>\n",
       "      <td>14.055556</td>\n",
       "      <td>287.205556</td>\n",
       "    </tr>\n",
       "    <tr>\n",
       "      <th>3</th>\n",
       "      <td>20160604</td>\n",
       "      <td>57.5</td>\n",
       "      <td>70.9</td>\n",
       "      <td>47.3</td>\n",
       "      <td>23.6</td>\n",
       "      <td>10.2</td>\n",
       "      <td>14.166667</td>\n",
       "      <td>287.316667</td>\n",
       "    </tr>\n",
       "    <tr>\n",
       "      <th>15</th>\n",
       "      <td>20160616</td>\n",
       "      <td>57.8</td>\n",
       "      <td>67.5</td>\n",
       "      <td>55.6</td>\n",
       "      <td>11.9</td>\n",
       "      <td>2.2</td>\n",
       "      <td>14.333333</td>\n",
       "      <td>287.483333</td>\n",
       "    </tr>\n",
       "    <tr>\n",
       "      <th>12</th>\n",
       "      <td>20160613</td>\n",
       "      <td>58.3</td>\n",
       "      <td>68.2</td>\n",
       "      <td>47.3</td>\n",
       "      <td>20.9</td>\n",
       "      <td>11.0</td>\n",
       "      <td>14.611111</td>\n",
       "      <td>287.761111</td>\n",
       "    </tr>\n",
       "    <tr>\n",
       "      <th>19</th>\n",
       "      <td>20160620</td>\n",
       "      <td>59.3</td>\n",
       "      <td>69.1</td>\n",
       "      <td>52.2</td>\n",
       "      <td>16.9</td>\n",
       "      <td>7.1</td>\n",
       "      <td>15.166667</td>\n",
       "      <td>288.316667</td>\n",
       "    </tr>\n",
       "    <tr>\n",
       "      <th>13</th>\n",
       "      <td>20160614</td>\n",
       "      <td>59.7</td>\n",
       "      <td>67.8</td>\n",
       "      <td>47.8</td>\n",
       "      <td>20.0</td>\n",
       "      <td>11.9</td>\n",
       "      <td>15.388889</td>\n",
       "      <td>288.538889</td>\n",
       "    </tr>\n",
       "    <tr>\n",
       "      <th>16</th>\n",
       "      <td>20160617</td>\n",
       "      <td>60.4</td>\n",
       "      <td>70.7</td>\n",
       "      <td>55.9</td>\n",
       "      <td>14.8</td>\n",
       "      <td>4.5</td>\n",
       "      <td>15.777778</td>\n",
       "      <td>288.927778</td>\n",
       "    </tr>\n",
       "    <tr>\n",
       "      <th>26</th>\n",
       "      <td>20160627</td>\n",
       "      <td>60.7</td>\n",
       "      <td>70.0</td>\n",
       "      <td>NaN</td>\n",
       "      <td>NaN</td>\n",
       "      <td>NaN</td>\n",
       "      <td>15.944444</td>\n",
       "      <td>289.094444</td>\n",
       "    </tr>\n",
       "    <tr>\n",
       "      <th>22</th>\n",
       "      <td>20160623</td>\n",
       "      <td>60.9</td>\n",
       "      <td>67.1</td>\n",
       "      <td>54.9</td>\n",
       "      <td>12.2</td>\n",
       "      <td>6.0</td>\n",
       "      <td>16.055556</td>\n",
       "      <td>289.205556</td>\n",
       "    </tr>\n",
       "    <tr>\n",
       "      <th>23</th>\n",
       "      <td>20160624</td>\n",
       "      <td>61.1</td>\n",
       "      <td>68.9</td>\n",
       "      <td>56.7</td>\n",
       "      <td>12.2</td>\n",
       "      <td>4.4</td>\n",
       "      <td>16.166667</td>\n",
       "      <td>289.316667</td>\n",
       "    </tr>\n",
       "    <tr>\n",
       "      <th>21</th>\n",
       "      <td>20160622</td>\n",
       "      <td>61.7</td>\n",
       "      <td>70.2</td>\n",
       "      <td>55.4</td>\n",
       "      <td>14.8</td>\n",
       "      <td>6.3</td>\n",
       "      <td>16.500000</td>\n",
       "      <td>289.650000</td>\n",
       "    </tr>\n",
       "    <tr>\n",
       "      <th>20</th>\n",
       "      <td>20160621</td>\n",
       "      <td>62.6</td>\n",
       "      <td>71.4</td>\n",
       "      <td>50.4</td>\n",
       "      <td>21.0</td>\n",
       "      <td>12.2</td>\n",
       "      <td>17.000000</td>\n",
       "      <td>290.150000</td>\n",
       "    </tr>\n",
       "    <tr>\n",
       "      <th>14</th>\n",
       "      <td>20160615</td>\n",
       "      <td>63.4</td>\n",
       "      <td>70.3</td>\n",
       "      <td>49.3</td>\n",
       "      <td>21.0</td>\n",
       "      <td>14.1</td>\n",
       "      <td>17.444444</td>\n",
       "      <td>290.594444</td>\n",
       "    </tr>\n",
       "    <tr>\n",
       "      <th>27</th>\n",
       "      <td>20160628</td>\n",
       "      <td>65.4</td>\n",
       "      <td>73.0</td>\n",
       "      <td>55.8</td>\n",
       "      <td>17.2</td>\n",
       "      <td>9.6</td>\n",
       "      <td>18.555556</td>\n",
       "      <td>291.705556</td>\n",
       "    </tr>\n",
       "    <tr>\n",
       "      <th>0</th>\n",
       "      <td>20160601</td>\n",
       "      <td>65.5</td>\n",
       "      <td>73.6</td>\n",
       "      <td>54.7</td>\n",
       "      <td>18.9</td>\n",
       "      <td>10.8</td>\n",
       "      <td>18.611111</td>\n",
       "      <td>291.761111</td>\n",
       "    </tr>\n",
       "    <tr>\n",
       "      <th>24</th>\n",
       "      <td>20160625</td>\n",
       "      <td>65.7</td>\n",
       "      <td>75.4</td>\n",
       "      <td>57.9</td>\n",
       "      <td>17.5</td>\n",
       "      <td>7.8</td>\n",
       "      <td>18.722222</td>\n",
       "      <td>291.872222</td>\n",
       "    </tr>\n",
       "    <tr>\n",
       "      <th>29</th>\n",
       "      <td>20160630</td>\n",
       "      <td>65.7</td>\n",
       "      <td>72.7</td>\n",
       "      <td>59.2</td>\n",
       "      <td>13.5</td>\n",
       "      <td>6.5</td>\n",
       "      <td>18.722222</td>\n",
       "      <td>291.872222</td>\n",
       "    </tr>\n",
       "    <tr>\n",
       "      <th>1</th>\n",
       "      <td>20160602</td>\n",
       "      <td>65.8</td>\n",
       "      <td>80.8</td>\n",
       "      <td>55.0</td>\n",
       "      <td>25.8</td>\n",
       "      <td>10.8</td>\n",
       "      <td>18.777778</td>\n",
       "      <td>291.927778</td>\n",
       "    </tr>\n",
       "    <tr>\n",
       "      <th>28</th>\n",
       "      <td>20160629</td>\n",
       "      <td>65.8</td>\n",
       "      <td>73.2</td>\n",
       "      <td>NaN</td>\n",
       "      <td>NaN</td>\n",
       "      <td>NaN</td>\n",
       "      <td>18.777778</td>\n",
       "      <td>291.927778</td>\n",
       "    </tr>\n",
       "    <tr>\n",
       "      <th>2</th>\n",
       "      <td>20160603</td>\n",
       "      <td>68.4</td>\n",
       "      <td>NaN</td>\n",
       "      <td>55.6</td>\n",
       "      <td>NaN</td>\n",
       "      <td>12.8</td>\n",
       "      <td>20.222222</td>\n",
       "      <td>293.372222</td>\n",
       "    </tr>\n",
       "    <tr>\n",
       "      <th>25</th>\n",
       "      <td>20160626</td>\n",
       "      <td>69.6</td>\n",
       "      <td>77.7</td>\n",
       "      <td>60.3</td>\n",
       "      <td>17.4</td>\n",
       "      <td>9.3</td>\n",
       "      <td>20.888889</td>\n",
       "      <td>294.038889</td>\n",
       "    </tr>\n",
       "  </tbody>\n",
       "</table>\n",
       "</div>"
      ],
      "text/plain": [
       "    YEARMODA  TEMP   MAX   MIN  DIFF  DIFF_MIN  TEMP_CELSIUS  TEMP_KELVIN\n",
       "8   20160609  49.4  54.1  45.7   8.4       3.7      9.666667   282.816667\n",
       "9   20160610  49.5  55.9  43.0  12.9       6.5      9.722222   282.872222\n",
       "4   20160605  51.4  58.3  43.2  15.1       8.2     10.777778   283.927778\n",
       "5   20160606  52.2  59.7  42.8  16.9       9.4     11.222222   284.372222\n",
       "10  20160611  54.0  62.1  41.7  20.4      12.3     12.222222   285.372222\n",
       "7   20160608  54.2   NaN  47.5   NaN       6.7     12.333333   285.483333\n",
       "11  20160612  55.4  64.2  46.0  18.2       9.4     13.000000   286.150000\n",
       "18  20160619  56.3  59.2  54.1   5.1       2.2     13.500000   286.650000\n",
       "6   20160607  56.9  65.1  45.9  19.2      11.0     13.833333   286.983333\n",
       "17  20160618  57.3   NaN  54.0   NaN       3.3     14.055556   287.205556\n",
       "3   20160604  57.5  70.9  47.3  23.6      10.2     14.166667   287.316667\n",
       "15  20160616  57.8  67.5  55.6  11.9       2.2     14.333333   287.483333\n",
       "12  20160613  58.3  68.2  47.3  20.9      11.0     14.611111   287.761111\n",
       "19  20160620  59.3  69.1  52.2  16.9       7.1     15.166667   288.316667\n",
       "13  20160614  59.7  67.8  47.8  20.0      11.9     15.388889   288.538889\n",
       "16  20160617  60.4  70.7  55.9  14.8       4.5     15.777778   288.927778\n",
       "26  20160627  60.7  70.0   NaN   NaN       NaN     15.944444   289.094444\n",
       "22  20160623  60.9  67.1  54.9  12.2       6.0     16.055556   289.205556\n",
       "23  20160624  61.1  68.9  56.7  12.2       4.4     16.166667   289.316667\n",
       "21  20160622  61.7  70.2  55.4  14.8       6.3     16.500000   289.650000\n",
       "20  20160621  62.6  71.4  50.4  21.0      12.2     17.000000   290.150000\n",
       "14  20160615  63.4  70.3  49.3  21.0      14.1     17.444444   290.594444\n",
       "27  20160628  65.4  73.0  55.8  17.2       9.6     18.555556   291.705556\n",
       "0   20160601  65.5  73.6  54.7  18.9      10.8     18.611111   291.761111\n",
       "24  20160625  65.7  75.4  57.9  17.5       7.8     18.722222   291.872222\n",
       "29  20160630  65.7  72.7  59.2  13.5       6.5     18.722222   291.872222\n",
       "1   20160602  65.8  80.8  55.0  25.8      10.8     18.777778   291.927778\n",
       "28  20160629  65.8  73.2   NaN   NaN       NaN     18.777778   291.927778\n",
       "2   20160603  68.4   NaN  55.6   NaN      12.8     20.222222   293.372222\n",
       "25  20160626  69.6  77.7  60.3  17.4       9.3     20.888889   294.038889"
      ]
     },
     "execution_count": 40,
     "metadata": {},
     "output_type": "execute_result"
    }
   ],
   "source": [
    "# Sort dataframe, ascending\n",
    "data.sort_values(by='TEMP')"
   ]
  },
  {
   "cell_type": "code",
   "execution_count": 41,
   "id": "6b5f834c",
   "metadata": {},
   "outputs": [
    {
     "data": {
      "text/html": [
       "<div>\n",
       "<style scoped>\n",
       "    .dataframe tbody tr th:only-of-type {\n",
       "        vertical-align: middle;\n",
       "    }\n",
       "\n",
       "    .dataframe tbody tr th {\n",
       "        vertical-align: top;\n",
       "    }\n",
       "\n",
       "    .dataframe thead th {\n",
       "        text-align: right;\n",
       "    }\n",
       "</style>\n",
       "<table border=\"1\" class=\"dataframe\">\n",
       "  <thead>\n",
       "    <tr style=\"text-align: right;\">\n",
       "      <th></th>\n",
       "      <th>YEARMODA</th>\n",
       "      <th>TEMP</th>\n",
       "      <th>MAX</th>\n",
       "      <th>MIN</th>\n",
       "      <th>DIFF</th>\n",
       "      <th>DIFF_MIN</th>\n",
       "      <th>TEMP_CELSIUS</th>\n",
       "      <th>TEMP_KELVIN</th>\n",
       "    </tr>\n",
       "  </thead>\n",
       "  <tbody>\n",
       "    <tr>\n",
       "      <th>25</th>\n",
       "      <td>20160626</td>\n",
       "      <td>69.6</td>\n",
       "      <td>77.7</td>\n",
       "      <td>60.3</td>\n",
       "      <td>17.4</td>\n",
       "      <td>9.3</td>\n",
       "      <td>20.888889</td>\n",
       "      <td>294.038889</td>\n",
       "    </tr>\n",
       "    <tr>\n",
       "      <th>2</th>\n",
       "      <td>20160603</td>\n",
       "      <td>68.4</td>\n",
       "      <td>NaN</td>\n",
       "      <td>55.6</td>\n",
       "      <td>NaN</td>\n",
       "      <td>12.8</td>\n",
       "      <td>20.222222</td>\n",
       "      <td>293.372222</td>\n",
       "    </tr>\n",
       "    <tr>\n",
       "      <th>1</th>\n",
       "      <td>20160602</td>\n",
       "      <td>65.8</td>\n",
       "      <td>80.8</td>\n",
       "      <td>55.0</td>\n",
       "      <td>25.8</td>\n",
       "      <td>10.8</td>\n",
       "      <td>18.777778</td>\n",
       "      <td>291.927778</td>\n",
       "    </tr>\n",
       "    <tr>\n",
       "      <th>28</th>\n",
       "      <td>20160629</td>\n",
       "      <td>65.8</td>\n",
       "      <td>73.2</td>\n",
       "      <td>NaN</td>\n",
       "      <td>NaN</td>\n",
       "      <td>NaN</td>\n",
       "      <td>18.777778</td>\n",
       "      <td>291.927778</td>\n",
       "    </tr>\n",
       "    <tr>\n",
       "      <th>29</th>\n",
       "      <td>20160630</td>\n",
       "      <td>65.7</td>\n",
       "      <td>72.7</td>\n",
       "      <td>59.2</td>\n",
       "      <td>13.5</td>\n",
       "      <td>6.5</td>\n",
       "      <td>18.722222</td>\n",
       "      <td>291.872222</td>\n",
       "    </tr>\n",
       "    <tr>\n",
       "      <th>24</th>\n",
       "      <td>20160625</td>\n",
       "      <td>65.7</td>\n",
       "      <td>75.4</td>\n",
       "      <td>57.9</td>\n",
       "      <td>17.5</td>\n",
       "      <td>7.8</td>\n",
       "      <td>18.722222</td>\n",
       "      <td>291.872222</td>\n",
       "    </tr>\n",
       "    <tr>\n",
       "      <th>0</th>\n",
       "      <td>20160601</td>\n",
       "      <td>65.5</td>\n",
       "      <td>73.6</td>\n",
       "      <td>54.7</td>\n",
       "      <td>18.9</td>\n",
       "      <td>10.8</td>\n",
       "      <td>18.611111</td>\n",
       "      <td>291.761111</td>\n",
       "    </tr>\n",
       "    <tr>\n",
       "      <th>27</th>\n",
       "      <td>20160628</td>\n",
       "      <td>65.4</td>\n",
       "      <td>73.0</td>\n",
       "      <td>55.8</td>\n",
       "      <td>17.2</td>\n",
       "      <td>9.6</td>\n",
       "      <td>18.555556</td>\n",
       "      <td>291.705556</td>\n",
       "    </tr>\n",
       "    <tr>\n",
       "      <th>14</th>\n",
       "      <td>20160615</td>\n",
       "      <td>63.4</td>\n",
       "      <td>70.3</td>\n",
       "      <td>49.3</td>\n",
       "      <td>21.0</td>\n",
       "      <td>14.1</td>\n",
       "      <td>17.444444</td>\n",
       "      <td>290.594444</td>\n",
       "    </tr>\n",
       "    <tr>\n",
       "      <th>20</th>\n",
       "      <td>20160621</td>\n",
       "      <td>62.6</td>\n",
       "      <td>71.4</td>\n",
       "      <td>50.4</td>\n",
       "      <td>21.0</td>\n",
       "      <td>12.2</td>\n",
       "      <td>17.000000</td>\n",
       "      <td>290.150000</td>\n",
       "    </tr>\n",
       "    <tr>\n",
       "      <th>21</th>\n",
       "      <td>20160622</td>\n",
       "      <td>61.7</td>\n",
       "      <td>70.2</td>\n",
       "      <td>55.4</td>\n",
       "      <td>14.8</td>\n",
       "      <td>6.3</td>\n",
       "      <td>16.500000</td>\n",
       "      <td>289.650000</td>\n",
       "    </tr>\n",
       "    <tr>\n",
       "      <th>23</th>\n",
       "      <td>20160624</td>\n",
       "      <td>61.1</td>\n",
       "      <td>68.9</td>\n",
       "      <td>56.7</td>\n",
       "      <td>12.2</td>\n",
       "      <td>4.4</td>\n",
       "      <td>16.166667</td>\n",
       "      <td>289.316667</td>\n",
       "    </tr>\n",
       "    <tr>\n",
       "      <th>22</th>\n",
       "      <td>20160623</td>\n",
       "      <td>60.9</td>\n",
       "      <td>67.1</td>\n",
       "      <td>54.9</td>\n",
       "      <td>12.2</td>\n",
       "      <td>6.0</td>\n",
       "      <td>16.055556</td>\n",
       "      <td>289.205556</td>\n",
       "    </tr>\n",
       "    <tr>\n",
       "      <th>26</th>\n",
       "      <td>20160627</td>\n",
       "      <td>60.7</td>\n",
       "      <td>70.0</td>\n",
       "      <td>NaN</td>\n",
       "      <td>NaN</td>\n",
       "      <td>NaN</td>\n",
       "      <td>15.944444</td>\n",
       "      <td>289.094444</td>\n",
       "    </tr>\n",
       "    <tr>\n",
       "      <th>16</th>\n",
       "      <td>20160617</td>\n",
       "      <td>60.4</td>\n",
       "      <td>70.7</td>\n",
       "      <td>55.9</td>\n",
       "      <td>14.8</td>\n",
       "      <td>4.5</td>\n",
       "      <td>15.777778</td>\n",
       "      <td>288.927778</td>\n",
       "    </tr>\n",
       "    <tr>\n",
       "      <th>13</th>\n",
       "      <td>20160614</td>\n",
       "      <td>59.7</td>\n",
       "      <td>67.8</td>\n",
       "      <td>47.8</td>\n",
       "      <td>20.0</td>\n",
       "      <td>11.9</td>\n",
       "      <td>15.388889</td>\n",
       "      <td>288.538889</td>\n",
       "    </tr>\n",
       "    <tr>\n",
       "      <th>19</th>\n",
       "      <td>20160620</td>\n",
       "      <td>59.3</td>\n",
       "      <td>69.1</td>\n",
       "      <td>52.2</td>\n",
       "      <td>16.9</td>\n",
       "      <td>7.1</td>\n",
       "      <td>15.166667</td>\n",
       "      <td>288.316667</td>\n",
       "    </tr>\n",
       "    <tr>\n",
       "      <th>12</th>\n",
       "      <td>20160613</td>\n",
       "      <td>58.3</td>\n",
       "      <td>68.2</td>\n",
       "      <td>47.3</td>\n",
       "      <td>20.9</td>\n",
       "      <td>11.0</td>\n",
       "      <td>14.611111</td>\n",
       "      <td>287.761111</td>\n",
       "    </tr>\n",
       "    <tr>\n",
       "      <th>15</th>\n",
       "      <td>20160616</td>\n",
       "      <td>57.8</td>\n",
       "      <td>67.5</td>\n",
       "      <td>55.6</td>\n",
       "      <td>11.9</td>\n",
       "      <td>2.2</td>\n",
       "      <td>14.333333</td>\n",
       "      <td>287.483333</td>\n",
       "    </tr>\n",
       "    <tr>\n",
       "      <th>3</th>\n",
       "      <td>20160604</td>\n",
       "      <td>57.5</td>\n",
       "      <td>70.9</td>\n",
       "      <td>47.3</td>\n",
       "      <td>23.6</td>\n",
       "      <td>10.2</td>\n",
       "      <td>14.166667</td>\n",
       "      <td>287.316667</td>\n",
       "    </tr>\n",
       "    <tr>\n",
       "      <th>17</th>\n",
       "      <td>20160618</td>\n",
       "      <td>57.3</td>\n",
       "      <td>NaN</td>\n",
       "      <td>54.0</td>\n",
       "      <td>NaN</td>\n",
       "      <td>3.3</td>\n",
       "      <td>14.055556</td>\n",
       "      <td>287.205556</td>\n",
       "    </tr>\n",
       "    <tr>\n",
       "      <th>6</th>\n",
       "      <td>20160607</td>\n",
       "      <td>56.9</td>\n",
       "      <td>65.1</td>\n",
       "      <td>45.9</td>\n",
       "      <td>19.2</td>\n",
       "      <td>11.0</td>\n",
       "      <td>13.833333</td>\n",
       "      <td>286.983333</td>\n",
       "    </tr>\n",
       "    <tr>\n",
       "      <th>18</th>\n",
       "      <td>20160619</td>\n",
       "      <td>56.3</td>\n",
       "      <td>59.2</td>\n",
       "      <td>54.1</td>\n",
       "      <td>5.1</td>\n",
       "      <td>2.2</td>\n",
       "      <td>13.500000</td>\n",
       "      <td>286.650000</td>\n",
       "    </tr>\n",
       "    <tr>\n",
       "      <th>11</th>\n",
       "      <td>20160612</td>\n",
       "      <td>55.4</td>\n",
       "      <td>64.2</td>\n",
       "      <td>46.0</td>\n",
       "      <td>18.2</td>\n",
       "      <td>9.4</td>\n",
       "      <td>13.000000</td>\n",
       "      <td>286.150000</td>\n",
       "    </tr>\n",
       "    <tr>\n",
       "      <th>7</th>\n",
       "      <td>20160608</td>\n",
       "      <td>54.2</td>\n",
       "      <td>NaN</td>\n",
       "      <td>47.5</td>\n",
       "      <td>NaN</td>\n",
       "      <td>6.7</td>\n",
       "      <td>12.333333</td>\n",
       "      <td>285.483333</td>\n",
       "    </tr>\n",
       "    <tr>\n",
       "      <th>10</th>\n",
       "      <td>20160611</td>\n",
       "      <td>54.0</td>\n",
       "      <td>62.1</td>\n",
       "      <td>41.7</td>\n",
       "      <td>20.4</td>\n",
       "      <td>12.3</td>\n",
       "      <td>12.222222</td>\n",
       "      <td>285.372222</td>\n",
       "    </tr>\n",
       "    <tr>\n",
       "      <th>5</th>\n",
       "      <td>20160606</td>\n",
       "      <td>52.2</td>\n",
       "      <td>59.7</td>\n",
       "      <td>42.8</td>\n",
       "      <td>16.9</td>\n",
       "      <td>9.4</td>\n",
       "      <td>11.222222</td>\n",
       "      <td>284.372222</td>\n",
       "    </tr>\n",
       "    <tr>\n",
       "      <th>4</th>\n",
       "      <td>20160605</td>\n",
       "      <td>51.4</td>\n",
       "      <td>58.3</td>\n",
       "      <td>43.2</td>\n",
       "      <td>15.1</td>\n",
       "      <td>8.2</td>\n",
       "      <td>10.777778</td>\n",
       "      <td>283.927778</td>\n",
       "    </tr>\n",
       "    <tr>\n",
       "      <th>9</th>\n",
       "      <td>20160610</td>\n",
       "      <td>49.5</td>\n",
       "      <td>55.9</td>\n",
       "      <td>43.0</td>\n",
       "      <td>12.9</td>\n",
       "      <td>6.5</td>\n",
       "      <td>9.722222</td>\n",
       "      <td>282.872222</td>\n",
       "    </tr>\n",
       "    <tr>\n",
       "      <th>8</th>\n",
       "      <td>20160609</td>\n",
       "      <td>49.4</td>\n",
       "      <td>54.1</td>\n",
       "      <td>45.7</td>\n",
       "      <td>8.4</td>\n",
       "      <td>3.7</td>\n",
       "      <td>9.666667</td>\n",
       "      <td>282.816667</td>\n",
       "    </tr>\n",
       "  </tbody>\n",
       "</table>\n",
       "</div>"
      ],
      "text/plain": [
       "    YEARMODA  TEMP   MAX   MIN  DIFF  DIFF_MIN  TEMP_CELSIUS  TEMP_KELVIN\n",
       "25  20160626  69.6  77.7  60.3  17.4       9.3     20.888889   294.038889\n",
       "2   20160603  68.4   NaN  55.6   NaN      12.8     20.222222   293.372222\n",
       "1   20160602  65.8  80.8  55.0  25.8      10.8     18.777778   291.927778\n",
       "28  20160629  65.8  73.2   NaN   NaN       NaN     18.777778   291.927778\n",
       "29  20160630  65.7  72.7  59.2  13.5       6.5     18.722222   291.872222\n",
       "24  20160625  65.7  75.4  57.9  17.5       7.8     18.722222   291.872222\n",
       "0   20160601  65.5  73.6  54.7  18.9      10.8     18.611111   291.761111\n",
       "27  20160628  65.4  73.0  55.8  17.2       9.6     18.555556   291.705556\n",
       "14  20160615  63.4  70.3  49.3  21.0      14.1     17.444444   290.594444\n",
       "20  20160621  62.6  71.4  50.4  21.0      12.2     17.000000   290.150000\n",
       "21  20160622  61.7  70.2  55.4  14.8       6.3     16.500000   289.650000\n",
       "23  20160624  61.1  68.9  56.7  12.2       4.4     16.166667   289.316667\n",
       "22  20160623  60.9  67.1  54.9  12.2       6.0     16.055556   289.205556\n",
       "26  20160627  60.7  70.0   NaN   NaN       NaN     15.944444   289.094444\n",
       "16  20160617  60.4  70.7  55.9  14.8       4.5     15.777778   288.927778\n",
       "13  20160614  59.7  67.8  47.8  20.0      11.9     15.388889   288.538889\n",
       "19  20160620  59.3  69.1  52.2  16.9       7.1     15.166667   288.316667\n",
       "12  20160613  58.3  68.2  47.3  20.9      11.0     14.611111   287.761111\n",
       "15  20160616  57.8  67.5  55.6  11.9       2.2     14.333333   287.483333\n",
       "3   20160604  57.5  70.9  47.3  23.6      10.2     14.166667   287.316667\n",
       "17  20160618  57.3   NaN  54.0   NaN       3.3     14.055556   287.205556\n",
       "6   20160607  56.9  65.1  45.9  19.2      11.0     13.833333   286.983333\n",
       "18  20160619  56.3  59.2  54.1   5.1       2.2     13.500000   286.650000\n",
       "11  20160612  55.4  64.2  46.0  18.2       9.4     13.000000   286.150000\n",
       "7   20160608  54.2   NaN  47.5   NaN       6.7     12.333333   285.483333\n",
       "10  20160611  54.0  62.1  41.7  20.4      12.3     12.222222   285.372222\n",
       "5   20160606  52.2  59.7  42.8  16.9       9.4     11.222222   284.372222\n",
       "4   20160605  51.4  58.3  43.2  15.1       8.2     10.777778   283.927778\n",
       "9   20160610  49.5  55.9  43.0  12.9       6.5      9.722222   282.872222\n",
       "8   20160609  49.4  54.1  45.7   8.4       3.7      9.666667   282.816667"
      ]
     },
     "execution_count": 41,
     "metadata": {},
     "output_type": "execute_result"
    }
   ],
   "source": [
    "# Sort dataframe, descending\n",
    "data.sort_values(by='TEMP', ascending=False)"
   ]
  },
  {
   "cell_type": "code",
   "execution_count": 42,
   "id": "4bc32a3c",
   "metadata": {},
   "outputs": [],
   "source": [
    "# define output filename\n",
    "output_fp = \"Kumpula_temps_June_2016.csv\"\n",
    "\n",
    "# Save dataframe to csv\n",
    "data.to_csv(output_fp, sep=',')"
   ]
  },
  {
   "cell_type": "code",
   "execution_count": 43,
   "id": "13a21d24",
   "metadata": {},
   "outputs": [],
   "source": [
    "output_fp2 = \"Kumpula_temps_above15_June_2016.csv\"\n",
    "warm_temps.to_csv(output_fp2, sep=',', index=False, float_format=\"%.1f\")"
   ]
  }
 ],
 "metadata": {
  "kernelspec": {
   "display_name": "Python 3",
   "language": "python",
   "name": "python3"
  },
  "language_info": {
   "codemirror_mode": {
    "name": "ipython",
    "version": 3
   },
   "file_extension": ".py",
   "mimetype": "text/x-python",
   "name": "python",
   "nbconvert_exporter": "python",
   "pygments_lexer": "ipython3",
   "version": "3.8.8"
  }
 },
 "nbformat": 4,
 "nbformat_minor": 5
}
