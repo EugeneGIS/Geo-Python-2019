{
 "cells": [
  {
   "cell_type": "markdown",
   "id": "86856069",
   "metadata": {},
   "source": [
    "# Exercise for Lesson 1"
   ]
  },
  {
   "cell_type": "markdown",
   "id": "eb30abd7",
   "metadata": {},
   "source": [
    "Question 1:Defining some variables  \n",
    "In the top cell of the new notebook:  \n",
    "1) Create a variable called ice_cream_rating and use it to store an integer value (whole number) between 0 and 10 that reflects your general opinion about how much you enjoy eating ice cream.  \n",
    "2) Create another variable called sleeping_rating and use it to store another integer between 0 and 10 that reflects your opinion about how much you enjoy sleeping.  \n",
    "3) Run the cell by pressing Shift-Enter."
   ]
  },
  {
   "cell_type": "code",
   "execution_count": 2,
   "id": "ddb6a1de",
   "metadata": {},
   "outputs": [],
   "source": [
    "ice_cream_rating = 10\n",
    "sleeping_rating = 6"
   ]
  },
  {
   "cell_type": "markdown",
   "id": "24fb0c19",
   "metadata": {},
   "source": [
    "Question 2: Reading in variable values  \n",
    "In the new cell that appears:  \n",
    "1) Use the input() function to prompt the user to enter their first name and store it in a variable called first_name.  \n",
    "2) Use the input() function again to prompt the user to enter their last name and store it in a variable called last_name.  \n",
    "3) (Optional) Define a third variable called my_name that will combine the user's first and last names into a single character string with a space between the names.  \n",
    "4) Run the cell and enter the requested information at the prompts."
   ]
  },
  {
   "cell_type": "code",
   "execution_count": 4,
   "id": "92d56738",
   "metadata": {},
   "outputs": [
    {
     "name": "stdout",
     "output_type": "stream",
     "text": [
      "What is your first name? Liu\n",
      "Liu is a nice first name!\n"
     ]
    }
   ],
   "source": [
    "first_name = input('What is your first name? ')\n",
    "print(first_name, 'is a nice first name!')"
   ]
  },
  {
   "cell_type": "code",
   "execution_count": 5,
   "id": "e844de75",
   "metadata": {},
   "outputs": [
    {
     "name": "stdout",
     "output_type": "stream",
     "text": [
      "What is your last name? Haokun\n",
      "Haokun is a nice last name!\n"
     ]
    }
   ],
   "source": [
    "last_name = input('What is your last name? ')\n",
    "print(last_name, 'is a nice last name!')"
   ]
  },
  {
   "cell_type": "code",
   "execution_count": 13,
   "id": "deb41df4",
   "metadata": {},
   "outputs": [
    {
     "name": "stdout",
     "output_type": "stream",
     "text": [
      "Liu Haokun\n"
     ]
    }
   ],
   "source": [
    "my_name = first_name + \" \" + last_name\n",
    "print(my_name)"
   ]
  },
  {
   "cell_type": "markdown",
   "id": "74f28547",
   "metadata": {},
   "source": [
    "Question 3: A bit of math  \n",
    "In order to assess happiness it is necessary to combine the ice cream and sleeping ratings. To do this:  \n",
    "1) Calculate the average of your ice_cream_rating and sleeping_rating variables and store the resulting value in a variable called happiness_rating.  \n",
    "2) Run the cell by pressing Shift-Enter.  "
   ]
  },
  {
   "cell_type": "code",
   "execution_count": 36,
   "id": "7ccb55c4",
   "metadata": {},
   "outputs": [
    {
     "name": "stdout",
     "output_type": "stream",
     "text": [
      "8\n"
     ]
    }
   ],
   "source": [
    "import statistics\n",
    "list1 = [ice_cream_rating,sleeping_rating]\n",
    "happiness_rating = statistics.mean(list1)\n",
    "print(happiness_rating)"
   ]
  },
  {
   "cell_type": "markdown",
   "id": "6909e074",
   "metadata": {},
   "source": [
    "Question 4: Checking data types  \n",
    "The next step is to investigate the kinds of data we're working with. In another Python cell:  \n",
    "1) Use a built-in Python function to check the data types of the ice_cream_rating, first_name, and happiness_rating variables. In order to see the data types for more than one variable in a single Python cell, you will need to print out these values using another built-in Python function.  \n",
    "2) Run the cell by pressing Shift-Enter.  \n",
    "3) Did all of the data types make sense? Were there any data types that were different than you expected? In the new Python cell that appeared after running the code above, enter your responses to the questions above.  \n",
    "4) For the cell containing your answers to the questions above, change the kind of cell from Code to Markdown.  \n",
    "5) Run the Markdown cell by pressing Shift-Enter."
   ]
  },
  {
   "cell_type": "code",
   "execution_count": 37,
   "id": "cfcdeae5",
   "metadata": {},
   "outputs": [
    {
     "name": "stdout",
     "output_type": "stream",
     "text": [
      "<class 'int'>\n",
      "<class 'str'>\n",
      "<class 'int'>\n"
     ]
    }
   ],
   "source": [
    "print(type(ice_cream_rating))\n",
    "print(type(first_name))\n",
    "print(type(happiness_rating))"
   ]
  },
  {
   "cell_type": "markdown",
   "id": "0efe6859",
   "metadata": {},
   "source": [
    "Answer:"
   ]
  },
  {
   "cell_type": "markdown",
   "id": "c2a7195c",
   "metadata": {},
   "source": [
    "Question 5: Displaying text on the screen  \n",
    "Finally, you can use your Python skills to generate output on the screen similar to that below. Use one command to generate each line of output.  \n",
    "Note that your code should replace “Dave” with the contents of your first_name variable, “9” with your value stored in the variable ice_cream_rating, etc. For your equivalent text with the full name (e.g., \"Dave Whipp\"), you can either use the values from the variables first_name and last_name, or the value in variable my_name.  "
   ]
  },
  {
   "cell_type": "code",
   "execution_count": 43,
   "id": "8582ae75",
   "metadata": {},
   "outputs": [
    {
     "name": "stdout",
     "output_type": "stream",
     "text": [
      "My name is Liu and I give eating ice cream a score of 9 out of 10!\n",
      "I am Liu Haokun and my sleeping enjoyment rating is 8 / 10!\n",
      "Based on the factors above, my happiness rating is  8 out of 10!\n"
     ]
    }
   ],
   "source": [
    "print(\"\"'My name is', first_name, 'and I give eating ice cream a score of 9 out of 10!'\"\\n\"'I am', my_name, 'and my sleeping enjoyment rating is 8 / 10!'\"\\n\"'Based on the factors above, my happiness rating is ', happiness_rating, 'out of 10!'\"\")"
   ]
  }
 ],
 "metadata": {
  "kernelspec": {
   "display_name": "Python 3",
   "language": "python",
   "name": "python3"
  },
  "language_info": {
   "codemirror_mode": {
    "name": "ipython",
    "version": 3
   },
   "file_extension": ".py",
   "mimetype": "text/x-python",
   "name": "python",
   "nbconvert_exporter": "python",
   "pygments_lexer": "ipython3",
   "version": "3.8.8"
  }
 },
 "nbformat": 4,
 "nbformat_minor": 5
}
