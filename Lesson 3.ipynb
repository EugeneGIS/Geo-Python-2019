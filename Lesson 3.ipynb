{
 "cells": [
  {
   "cell_type": "markdown",
   "id": "08763e49",
   "metadata": {},
   "source": [
    "# Lesson 3"
   ]
  },
  {
   "cell_type": "code",
   "execution_count": 1,
   "id": "3e11cf87",
   "metadata": {},
   "outputs": [],
   "source": [
    "european_cities = ['Amsterdam', 'Brussels', 'Lisbon', 'Reykjavik']"
   ]
  },
  {
   "cell_type": "code",
   "execution_count": 2,
   "id": "06f27e8c",
   "metadata": {},
   "outputs": [
    {
     "name": "stdout",
     "output_type": "stream",
     "text": [
      "Amsterdam\n",
      "Brussels\n",
      "Lisbon\n",
      "Reykjavik\n"
     ]
    }
   ],
   "source": [
    "for city in european_cities:\n",
    "    print(city)"
   ]
  },
  {
   "cell_type": "code",
   "execution_count": 3,
   "id": "af27a1b3",
   "metadata": {},
   "outputs": [
    {
     "name": "stdout",
     "output_type": "stream",
     "text": [
      "Detroit\n",
      "Chicago\n",
      "Denver\n",
      "Boston\n",
      "Portland\n",
      "San Francisco\n",
      "Houston\n",
      "Orlando\n"
     ]
    }
   ],
   "source": [
    "us_cities = ['Detroit', 'Chicago', 'Denver', 'Boston', 'Portland', 'San Francisco', 'Houston', 'Orlando']\n",
    "for city in us_cities:\n",
    "    print(city)"
   ]
  },
  {
   "cell_type": "code",
   "execution_count": 5,
   "id": "fa2e10c6",
   "metadata": {},
   "outputs": [
    {
     "name": "stdout",
     "output_type": "stream",
     "text": [
      "rain\n",
      "sleet\n",
      "snow\n",
      "freezing fog\n",
      "sunny\n",
      "cloudy\n",
      "ice pellets\n"
     ]
    }
   ],
   "source": [
    "weather_conditions = ['rain', 'sleet', 'snow', 'freezing fog', 'sunny', 'cloudy', 'ice pellets']\n",
    "for weather in weather_conditions:\n",
    "    print(weather)"
   ]
  },
  {
   "cell_type": "code",
   "execution_count": 6,
   "id": "b98479c3",
   "metadata": {},
   "outputs": [
    {
     "name": "stdout",
     "output_type": "stream",
     "text": [
      "After the loop, weather is ice pellets\n"
     ]
    }
   ],
   "source": [
    "print('After the loop, weather is', weather)"
   ]
  },
  {
   "cell_type": "code",
   "execution_count": 21,
   "id": "61217f58",
   "metadata": {},
   "outputs": [
    {
     "name": "stdout",
     "output_type": "stream",
     "text": [
      "2\n",
      "5\n",
      "8\n"
     ]
    }
   ],
   "source": [
    "for value in range(2,9,3):\n",
    "    print(value)"
   ]
  },
  {
   "cell_type": "code",
   "execution_count": 24,
   "id": "d4853946",
   "metadata": {},
   "outputs": [
    {
     "name": "stdout",
     "output_type": "stream",
     "text": [
      "Value of i: 0\n",
      "Value of numbers[i] before addition: 0\n",
      "Value of numbers[i] after addition: 0\n",
      "\n",
      "Value of i: 1\n",
      "Value of numbers[i] before addition: 1\n",
      "Value of numbers[i] after addition: 2\n",
      "\n",
      "Value of i: 2\n",
      "Value of numbers[i] before addition: 2\n",
      "Value of numbers[i] after addition: 4\n",
      "\n",
      "Value of i: 3\n",
      "Value of numbers[i] before addition: 3\n",
      "Value of numbers[i] after addition: 6\n",
      "\n",
      "[0, 2, 4, 6]\n"
     ]
    }
   ],
   "source": [
    "numbers = [0, 1, 2, 3]\n",
    "\n",
    "for i in range(len(numbers)):\n",
    "    print('Value of i:', i)\n",
    "    print('Value of numbers[i] before addition:', numbers[i])\n",
    "    numbers[i] = numbers[i] + i\n",
    "    print('Value of numbers[i] after addition:', numbers[i])\n",
    "    print('')\n",
    "\n",
    "print(numbers)"
   ]
  },
  {
   "cell_type": "code",
   "execution_count": 25,
   "id": "05bdffd6",
   "metadata": {},
   "outputs": [
    {
     "name": "stdout",
     "output_type": "stream",
     "text": [
      "Helsinki is the capital of Finland\n",
      "Stockholm is the capital of Sweden\n",
      "Oslo is the capital of Norway\n",
      "Reykjavik is the capital of Iceland\n",
      "Copenhagen is the capital of Denmark\n"
     ]
    }
   ],
   "source": [
    "cities = ['Helsinki', 'Stockholm', 'Oslo', 'Reykjavik', 'Copenhagen']\n",
    "countries = ['Finland', 'Sweden', 'Norway', 'Iceland', 'Denmark']\n",
    "\n",
    "for i in range(len(cities)):\n",
    "    print(cities[i], 'is the capital of', countries[i])"
   ]
  },
  {
   "cell_type": "code",
   "execution_count": 26,
   "id": "b94cb06b",
   "metadata": {},
   "outputs": [
    {
     "name": "stdout",
     "output_type": "stream",
     "text": [
      "it is not hot\n"
     ]
    }
   ],
   "source": [
    "temperature = 17\n",
    "\n",
    "if temperature > 25:\n",
    "    print('it is hot')\n",
    "else:\n",
    "    print('it is not hot')"
   ]
  },
  {
   "cell_type": "code",
   "execution_count": 27,
   "id": "1b780639",
   "metadata": {},
   "outputs": [
    {
     "name": "stdout",
     "output_type": "stream",
     "text": [
      "Wear a raincoat\n"
     ]
    }
   ],
   "source": [
    "weather = 'rain'\n",
    "\n",
    "if weather == 'rain':\n",
    "    print('Wear a raincoat')\n",
    "else:\n",
    "    print('No raincoat needed')"
   ]
  },
  {
   "cell_type": "code",
   "execution_count": 28,
   "id": "4bdf4ddb",
   "metadata": {},
   "outputs": [
    {
     "name": "stdout",
     "output_type": "stream",
     "text": [
      "-3 is below freezing\n"
     ]
    }
   ],
   "source": [
    "temperature = -3\n",
    "if temperature > 0:\n",
    "     print(temperature, 'is above freezing')\n",
    "elif temperature == 0:\n",
    "     print(temperature, 'is freezing')\n",
    "else:\n",
    "     print(temperature, 'is below freezing')"
   ]
  },
  {
   "cell_type": "code",
   "execution_count": 29,
   "id": "73379b93",
   "metadata": {},
   "outputs": [
    {
     "name": "stdout",
     "output_type": "stream",
     "text": [
      "B\n"
     ]
    }
   ],
   "source": [
    "yesterday = 14\n",
    "today = 10\n",
    "tomorrow = 13\n",
    "\n",
    "if yesterday <= today:\n",
    "    print('A')\n",
    "elif today != tomorrow:\n",
    "    print('B')\n",
    "elif yesterday > tomorrow:\n",
    "    print('C')\n",
    "elif today == today:\n",
    "    print('D')"
   ]
  },
  {
   "cell_type": "code",
   "execution_count": 30,
   "id": "73fe115f",
   "metadata": {},
   "outputs": [
    {
     "name": "stdout",
     "output_type": "stream",
     "text": [
      "At least one part is not true\n"
     ]
    }
   ],
   "source": [
    "if (1 > 0) and (-1 > 0):\n",
    "     print('Both parts are true')\n",
    "else:\n",
    "     print('At least one part is not true')"
   ]
  },
  {
   "cell_type": "code",
   "execution_count": 31,
   "id": "85be402a",
   "metadata": {},
   "outputs": [
    {
     "name": "stdout",
     "output_type": "stream",
     "text": [
      "At least one test is true\n"
     ]
    }
   ],
   "source": [
    "if (1 < 0) or (-1 < 0):\n",
    "    print('At least one test is true')"
   ]
  },
  {
   "cell_type": "code",
   "execution_count": 32,
   "id": "0b747109",
   "metadata": {},
   "outputs": [
    {
     "name": "stdout",
     "output_type": "stream",
     "text": [
      "Just stay at home\n"
     ]
    }
   ],
   "source": [
    "weather = 'rain'\n",
    "wind = 'windy'\n",
    "\n",
    "if (weather == 'rain') or (wind == 'windy'):\n",
    "    print('Just stay at home')\n",
    "else:\n",
    "    print('Go out and enjoy the weather! :)')"
   ]
  },
  {
   "cell_type": "code",
   "execution_count": 33,
   "id": "85b7a0b9",
   "metadata": {},
   "outputs": [
    {
     "name": "stdout",
     "output_type": "stream",
     "text": [
      "0 is not hot\n",
      "12 is not hot\n",
      "17 is not hot\n",
      "28 celsius degrees is hot\n",
      "30 celsius degrees is hot\n"
     ]
    }
   ],
   "source": [
    "temperatures = [0, 12, 17, 28, 30]\n",
    "\n",
    "for temperature in temperatures:\n",
    "    if temperature > 25:\n",
    "        print(temperature, 'celsius degrees is hot')\n",
    "    else:\n",
    "        print(temperature, 'is not hot')"
   ]
  },
  {
   "cell_type": "code",
   "execution_count": 34,
   "id": "c23b8ea3",
   "metadata": {},
   "outputs": [],
   "source": [
    "# Implicit line continuation inside brackets\n",
    "us_cities = ['Detroit', 'Chicago', 'Denver', 'Boston',\n",
    "            'Portland', 'San Francisco', 'Houston', 'Orlando',]\n",
    "\n",
    "# Hanging indentation:\n",
    "us_cities = [\n",
    "            'Detroit', 'Chicago',\n",
    "            'Denver', 'Boston',\n",
    "            'Portland', 'San Francisco',\n",
    "            'Houston', 'Orlando',\n",
    "            ]"
   ]
  },
  {
   "cell_type": "code",
   "execution_count": 37,
   "id": "5ad32d12",
   "metadata": {},
   "outputs": [
    {
     "name": "stdout",
     "output_type": "stream",
     "text": [
      "Just stay at home\n"
     ]
    }
   ],
   "source": [
    "weather = 'Rain'\n",
    "wind = 'Windy'\n",
    "\n",
    "if ((weather == 'Rain') \n",
    "    and (wind == 'Windy')):\n",
    "    print('Just stay at home')\n",
    "\n",
    "    \n",
    "if ((weather == 'Rain')\n",
    "        and (wind == 'Windy')):\n",
    "    print('Just stay at home')"
   ]
  },
  {
   "cell_type": "code",
   "execution_count": null,
   "id": "35c7ed9c",
   "metadata": {},
   "outputs": [],
   "source": []
  }
 ],
 "metadata": {
  "kernelspec": {
   "display_name": "Python 3",
   "language": "python",
   "name": "python3"
  },
  "language_info": {
   "codemirror_mode": {
    "name": "ipython",
    "version": 3
   },
   "file_extension": ".py",
   "mimetype": "text/x-python",
   "name": "python",
   "nbconvert_exporter": "python",
   "pygments_lexer": "ipython3",
   "version": "3.8.8"
  }
 },
 "nbformat": 4,
 "nbformat_minor": 5
}
