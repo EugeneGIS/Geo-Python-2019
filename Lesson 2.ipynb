{
 "cells": [
  {
   "cell_type": "markdown",
   "id": "5ee4e02d",
   "metadata": {},
   "source": [
    "# Lesson 2"
   ]
  },
  {
   "cell_type": "code",
   "execution_count": 1,
   "id": "4a4067ae",
   "metadata": {},
   "outputs": [],
   "source": [
    "station_name = 'Helsinki Kaivopuisto'\n",
    "station_id = 132310\n",
    "station_lat = 60.15\n",
    "station_lon = 24.96\n",
    "station_type = 'Mareographs'"
   ]
  },
  {
   "cell_type": "code",
   "execution_count": 2,
   "id": "423b8ad6",
   "metadata": {},
   "outputs": [
    {
     "data": {
      "text/plain": [
       "str"
      ]
     },
     "execution_count": 2,
     "metadata": {},
     "output_type": "execute_result"
    }
   ],
   "source": [
    "type(station_name)"
   ]
  },
  {
   "cell_type": "code",
   "execution_count": 3,
   "id": "b5a5afb1",
   "metadata": {},
   "outputs": [
    {
     "data": {
      "text/plain": [
       "int"
      ]
     },
     "execution_count": 3,
     "metadata": {},
     "output_type": "execute_result"
    }
   ],
   "source": [
    "type(station_id)"
   ]
  },
  {
   "cell_type": "code",
   "execution_count": 4,
   "id": "62e44b5d",
   "metadata": {},
   "outputs": [
    {
     "data": {
      "text/plain": [
       "float"
      ]
     },
     "execution_count": 4,
     "metadata": {},
     "output_type": "execute_result"
    }
   ],
   "source": [
    "type(station_lat)"
   ]
  },
  {
   "cell_type": "code",
   "execution_count": 5,
   "id": "013188c0",
   "metadata": {},
   "outputs": [],
   "source": [
    "station_id_str = str(station_id)"
   ]
  },
  {
   "cell_type": "code",
   "execution_count": 6,
   "id": "6a31b7df",
   "metadata": {},
   "outputs": [
    {
     "data": {
      "text/plain": [
       "str"
      ]
     },
     "execution_count": 6,
     "metadata": {},
     "output_type": "execute_result"
    }
   ],
   "source": [
    "type(station_id_str)"
   ]
  },
  {
   "cell_type": "code",
   "execution_count": 7,
   "id": "27e30e4c",
   "metadata": {},
   "outputs": [
    {
     "data": {
      "text/plain": [
       "'132310'"
      ]
     },
     "execution_count": 7,
     "metadata": {},
     "output_type": "execute_result"
    }
   ],
   "source": [
    "station_id_str"
   ]
  },
  {
   "cell_type": "code",
   "execution_count": 8,
   "id": "a472033e",
   "metadata": {},
   "outputs": [],
   "source": [
    "station_name_and_id = station_name + \": \" + str(station_id)"
   ]
  },
  {
   "cell_type": "code",
   "execution_count": 9,
   "id": "f87c160f",
   "metadata": {},
   "outputs": [
    {
     "name": "stdout",
     "output_type": "stream",
     "text": [
      "Helsinki Kaivopuisto: 132310\n"
     ]
    }
   ],
   "source": [
    "print(station_name_and_id)"
   ]
  },
  {
   "cell_type": "code",
   "execution_count": 10,
   "id": "56cb5910",
   "metadata": {},
   "outputs": [],
   "source": [
    "station_names = ['Helsinki Harmaja', 'Helsinki Kaisaniemi', 'Helsinki Kaivopuisto', 'Helsinki Kumpula']"
   ]
  },
  {
   "cell_type": "code",
   "execution_count": 11,
   "id": "45bdb13e",
   "metadata": {},
   "outputs": [
    {
     "name": "stdout",
     "output_type": "stream",
     "text": [
      "['Helsinki Harmaja', 'Helsinki Kaisaniemi', 'Helsinki Kaivopuisto', 'Helsinki Kumpula']\n"
     ]
    }
   ],
   "source": [
    "print(station_names)"
   ]
  },
  {
   "cell_type": "code",
   "execution_count": 12,
   "id": "25835025",
   "metadata": {},
   "outputs": [
    {
     "data": {
      "text/plain": [
       "list"
      ]
     },
     "execution_count": 12,
     "metadata": {},
     "output_type": "execute_result"
    }
   ],
   "source": [
    "type(station_names)"
   ]
  },
  {
   "cell_type": "code",
   "execution_count": 13,
   "id": "695ac901",
   "metadata": {},
   "outputs": [
    {
     "name": "stdout",
     "output_type": "stream",
     "text": [
      "Helsinki Kaisaniemi\n"
     ]
    }
   ],
   "source": [
    "print(station_names[1])"
   ]
  },
  {
   "cell_type": "code",
   "execution_count": 14,
   "id": "52a50954",
   "metadata": {},
   "outputs": [
    {
     "name": "stdout",
     "output_type": "stream",
     "text": [
      "Helsinki Harmaja\n"
     ]
    }
   ],
   "source": [
    "print(station_names[0])"
   ]
  },
  {
   "cell_type": "code",
   "execution_count": 15,
   "id": "567026d8",
   "metadata": {},
   "outputs": [
    {
     "data": {
      "text/plain": [
       "4"
      ]
     },
     "execution_count": 15,
     "metadata": {},
     "output_type": "execute_result"
    }
   ],
   "source": [
    "len(station_names)"
   ]
  },
  {
   "cell_type": "code",
   "execution_count": 16,
   "id": "c057747a",
   "metadata": {},
   "outputs": [
    {
     "name": "stdout",
     "output_type": "stream",
     "text": [
      "Helsinki Kumpula\n"
     ]
    }
   ],
   "source": [
    "print(station_names[-1])"
   ]
  },
  {
   "cell_type": "code",
   "execution_count": 1,
   "id": "ba90adcb",
   "metadata": {},
   "outputs": [
    {
     "name": "stdout",
     "output_type": "stream",
     "text": [
      "['Weather stations', 'Weather stations', 'Weather stations', 'Weather stations']\n"
     ]
    }
   ],
   "source": [
    "station_types = ['Weather stations', 'Weather stations', 'Weather stations', 'Weather stations']\n",
    "print(station_types)"
   ]
  },
  {
   "cell_type": "code",
   "execution_count": 2,
   "id": "0d08b6b1",
   "metadata": {},
   "outputs": [
    {
     "name": "stdout",
     "output_type": "stream",
     "text": [
      "['Weather stations', 'Weather stations', 'Mareographs', 'Weather stations']\n"
     ]
    }
   ],
   "source": [
    "station_types[2] = 'Mareographs'\n",
    "print(station_types)"
   ]
  },
  {
   "cell_type": "code",
   "execution_count": 4,
   "id": "47729cd1",
   "metadata": {},
   "outputs": [
    {
     "name": "stdout",
     "output_type": "stream",
     "text": [
      "['Helsinki Kaivopuisto', 132310, 60.15, 24.96, 'Mareographs']\n"
     ]
    }
   ],
   "source": [
    "station_name = 'Helsinki Kaivopuisto'\n",
    "station_id = 132310\n",
    "station_lat = 60.15\n",
    "station_lon = 24.96\n",
    "station_type = 'Mareographs'\n",
    "\n",
    "station_hel_kaivo = [station_name, station_id, station_lat, station_lon, station_type]\n",
    "print(station_hel_kaivo)"
   ]
  },
  {
   "cell_type": "code",
   "execution_count": 6,
   "id": "89610c43",
   "metadata": {},
   "outputs": [
    {
     "name": "stdout",
     "output_type": "stream",
     "text": [
      "['Helsinki Harmaja', 'Helsinki Kaisaniemi', 'Helsinki Kaivopuisto', 'Helsinki Kumpula']\n"
     ]
    }
   ],
   "source": [
    "station_names = ['Helsinki Harmaja', 'Helsinki Kaisaniemi', 'Helsinki Kaivopuisto', 'Helsinki Kumpula']\n",
    "print(station_names)"
   ]
  },
  {
   "cell_type": "code",
   "execution_count": 7,
   "id": "43b891c8",
   "metadata": {},
   "outputs": [
    {
     "name": "stdout",
     "output_type": "stream",
     "text": [
      "['Helsinki Kaisaniemi', 'Helsinki Kaivopuisto', 'Helsinki Kumpula']\n"
     ]
    }
   ],
   "source": [
    "del station_names[0]\n",
    "print(station_names)"
   ]
  },
  {
   "cell_type": "code",
   "execution_count": 8,
   "id": "4d78d1fc",
   "metadata": {},
   "outputs": [],
   "source": [
    "station_names.append('Helsinki lighthouse')\n",
    "station_names.append('Helsinki Malmi airfield')"
   ]
  },
  {
   "cell_type": "code",
   "execution_count": 9,
   "id": "1f152ed8",
   "metadata": {},
   "outputs": [
    {
     "name": "stdout",
     "output_type": "stream",
     "text": [
      "['Helsinki Kaisaniemi', 'Helsinki Kaivopuisto', 'Helsinki Kumpula', 'Helsinki lighthouse', 'Helsinki Malmi airfield']\n"
     ]
    }
   ],
   "source": [
    "print(station_names)"
   ]
  },
  {
   "cell_type": "code",
   "execution_count": 10,
   "id": "a84a90bd",
   "metadata": {},
   "outputs": [
    {
     "name": "stdout",
     "output_type": "stream",
     "text": [
      "5\n"
     ]
    }
   ],
   "source": [
    "station_name_length = len(station_names)\n",
    "print(station_name_length)"
   ]
  },
  {
   "cell_type": "code",
   "execution_count": 11,
   "id": "bdf3d654",
   "metadata": {},
   "outputs": [
    {
     "data": {
      "text/plain": [
       "int"
      ]
     },
     "execution_count": 11,
     "metadata": {},
     "output_type": "execute_result"
    }
   ],
   "source": [
    "type(station_name_length)"
   ]
  },
  {
   "cell_type": "code",
   "execution_count": 12,
   "id": "f0123539",
   "metadata": {},
   "outputs": [
    {
     "data": {
      "text/plain": [
       "2"
      ]
     },
     "execution_count": 12,
     "metadata": {},
     "output_type": "execute_result"
    }
   ],
   "source": [
    "station_names.count('Helsinki Kumpula')    # The count method counts the number of occurences of a value\n",
    "station_names.index('Helsinki Kumpula')    # The index method gives the index value of an item in a list"
   ]
  },
  {
   "cell_type": "code",
   "execution_count": 14,
   "id": "74696014",
   "metadata": {},
   "outputs": [
    {
     "name": "stdout",
     "output_type": "stream",
     "text": [
      "['Helsinki Kaisaniemi', 'Helsinki Kaivopuisto', 'Helsinki Kumpula', 'Helsinki lighthouse', 'Helsinki Malmi airfield']\n"
     ]
    }
   ],
   "source": [
    "station_names.reverse()\n",
    "print(station_names)"
   ]
  },
  {
   "cell_type": "code",
   "execution_count": 15,
   "id": "366c5761",
   "metadata": {},
   "outputs": [
    {
     "name": "stdout",
     "output_type": "stream",
     "text": [
      "['Helsinki Kaisaniemi', 'Helsinki Kaivopuisto', 'Helsinki Kumpula', 'Helsinki Malmi airfield', 'Helsinki lighthouse']\n"
     ]
    }
   ],
   "source": [
    "station_names.sort()   # Notice no output here...\n",
    "print(station_names)"
   ]
  },
  {
   "cell_type": "markdown",
   "id": "e9b0214d",
   "metadata": {},
   "source": [
    "Line comments"
   ]
  },
  {
   "cell_type": "code",
   "execution_count": 16,
   "id": "29251adb",
   "metadata": {},
   "outputs": [],
   "source": [
    "# This is a line comment. It will be ignored when this cell is run"
   ]
  },
  {
   "cell_type": "code",
   "execution_count": 17,
   "id": "b467f274",
   "metadata": {},
   "outputs": [],
   "source": [
    "# This list has the names of FMI observation stations in Helsinki\n",
    "station_names = ['Helsinki Harmaja', 'Helsinki Kaisaniemi', 'Helsinki Kaivopuisto', 'Helsinki Kumpula']"
   ]
  },
  {
   "cell_type": "code",
   "execution_count": 18,
   "id": "887109ee",
   "metadata": {},
   "outputs": [
    {
     "name": "stdout",
     "output_type": "stream",
     "text": [
      "Helsinki Kumpula\n"
     ]
    }
   ],
   "source": [
    "print(station_names[-1]) # This prints the last value in the list station_names"
   ]
  },
  {
   "cell_type": "code",
   "execution_count": 19,
   "id": "988df4a3",
   "metadata": {},
   "outputs": [],
   "source": [
    "# This doesn't work, so I'm commenting it out for now\n",
    "# my_life.append(lots_of_money)"
   ]
  },
  {
   "cell_type": "code",
   "execution_count": 20,
   "id": "cd88f91e",
   "metadata": {},
   "outputs": [
    {
     "data": {
      "text/plain": [
       "' This text will also be ignored.\\nEven if it is spread across multiple lines.\\nCool! '"
      ]
     },
     "execution_count": 20,
     "metadata": {},
     "output_type": "execute_result"
    }
   ],
   "source": [
    "''' This text will also be ignored.\n",
    "Even if it is spread across multiple lines.\n",
    "Cool! '''"
   ]
  },
  {
   "cell_type": "code",
   "execution_count": 21,
   "id": "e2ec591b",
   "metadata": {},
   "outputs": [],
   "source": [
    "''' The list below contains names of FMI observation stations in Helsinki.\n",
    "More information and a complete list of stations can be found at\n",
    "https://en.ilmatieteenlaitos.fi/observation-stations '''\n",
    "station_names = ['Helsinki Harmaja', 'Helsinki Kaisaniemi', 'Helsinki Kaivopuisto', 'Helsinki Kumpula']"
   ]
  },
  {
   "cell_type": "code",
   "execution_count": 22,
   "id": "7db29888",
   "metadata": {},
   "outputs": [
    {
     "data": {
      "text/plain": [
       "' None of the code below works, commenting this out for now.\\nstep_one = learn_to_code()\\nstep_two = become_programmer()\\nstep_three = ???\\nstep_four = profit()\\n'"
      ]
     },
     "execution_count": 22,
     "metadata": {},
     "output_type": "execute_result"
    }
   ],
   "source": [
    "''' None of the code below works, commenting this out for now.\n",
    "step_one = learn_to_code()\n",
    "step_two = become_programmer()\n",
    "step_three = ???\n",
    "step_four = profit()\n",
    "'''"
   ]
  }
 ],
 "metadata": {
  "kernelspec": {
   "display_name": "Python 3",
   "language": "python",
   "name": "python3"
  },
  "language_info": {
   "codemirror_mode": {
    "name": "ipython",
    "version": 3
   },
   "file_extension": ".py",
   "mimetype": "text/x-python",
   "name": "python",
   "nbconvert_exporter": "python",
   "pygments_lexer": "ipython3",
   "version": "3.8.8"
  }
 },
 "nbformat": 4,
 "nbformat_minor": 5
}
