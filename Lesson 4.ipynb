{
 "cells": [
  {
   "cell_type": "code",
   "execution_count": 1,
   "id": "32dc6c8d",
   "metadata": {},
   "outputs": [],
   "source": [
    "def celsius_to_fahr(temp):\n",
    "    return 9/5 * temp + 32"
   ]
  },
  {
   "cell_type": "code",
   "execution_count": 2,
   "id": "0d80e122",
   "metadata": {},
   "outputs": [
    {
     "name": "stdout",
     "output_type": "stream",
     "text": [
      "The freezing point of water in Fahrenheit is: 32.0\n"
     ]
    }
   ],
   "source": [
    "freezing_point =  celsius_to_fahr(0)\n",
    "print('The freezing point of water in Fahrenheit is:', freezing_point)"
   ]
  },
  {
   "cell_type": "code",
   "execution_count": 3,
   "id": "0bc33c39",
   "metadata": {},
   "outputs": [
    {
     "name": "stdout",
     "output_type": "stream",
     "text": [
      "The boiling point of water in Fahrenheit is: 212.0\n"
     ]
    }
   ],
   "source": [
    "print('The boiling point of water in Fahrenheit is:', celsius_to_fahr(100))"
   ]
  },
  {
   "cell_type": "code",
   "execution_count": 4,
   "id": "c539a43e",
   "metadata": {},
   "outputs": [],
   "source": [
    "def kelvins_to_celsius(temp_kelvins):\n",
    "    return temp_kelvins - 273.15"
   ]
  },
  {
   "cell_type": "code",
   "execution_count": 5,
   "id": "7f1bdb50",
   "metadata": {},
   "outputs": [
    {
     "name": "stdout",
     "output_type": "stream",
     "text": [
      "Absolute zero in Celsius is: -273.15\n"
     ]
    }
   ],
   "source": [
    "absolute_zero = kelvins_to_celsius(temp_kelvins=0)\n",
    "print('Absolute zero in Celsius is:', absolute_zero)"
   ]
  },
  {
   "cell_type": "code",
   "execution_count": 6,
   "id": "3d9d28cd",
   "metadata": {},
   "outputs": [
    {
     "name": "stdout",
     "output_type": "stream",
     "text": [
      "Hello, my name is Haokun. I am 23 years old.\n"
     ]
    }
   ],
   "source": [
    "def hello(name,age):\n",
    "    return 'Hello, my name is ' + name + '. I am ' + str(age) + ' years old.'\n",
    "\n",
    "a = hello(name = 'Haokun',age = '23')\n",
    "print(a)"
   ]
  },
  {
   "cell_type": "code",
   "execution_count": 7,
   "id": "603e0642",
   "metadata": {},
   "outputs": [
    {
     "name": "stdout",
     "output_type": "stream",
     "text": [
      "Absolute zero in Fahrenheit is: -459.66999999999996\n"
     ]
    }
   ],
   "source": [
    "def kelvins_to_fahr(temp_kelvins):\n",
    "    temp_celsius = kelvins_to_celsius(temp_kelvins)\n",
    "    temp_fahr = celsius_to_fahr(temp_celsius)\n",
    "    return temp_fahr\n",
    "\n",
    "absolute_zero_fahr = kelvins_to_fahr(temp_kelvins=0)\n",
    "print('Absolute zero in Fahrenheit is:', absolute_zero_fahr)"
   ]
  },
  {
   "cell_type": "code",
   "execution_count": 8,
   "id": "25a0bd2e",
   "metadata": {},
   "outputs": [
    {
     "name": "stdout",
     "output_type": "stream",
     "text": [
      " Volume in drive C is OS\n",
      " Volume Serial Number is B634-FA5D\n",
      "\n",
      " Directory of C:\\Users\\eugen\\Downloads\\Geopython\n",
      "\n",
      "09/27/2021  09:25 AM    <DIR>          .\n",
      "09/27/2021  09:25 AM    <DIR>          ..\n",
      "09/26/2021  03:19 PM    <DIR>          .ipynb_checkpoints\n",
      "09/27/2021  08:35 AM    <DIR>          __pycache__\n",
      "09/21/2021  09:37 AM             6,971 Exercise for Lesson 1.ipynb\n",
      "09/22/2021  11:19 AM            25,182 Exercise for Lesson 2.ipynb\n",
      "09/22/2021  05:29 PM            15,142 Exercise for Lesson 3 problem 1.ipynb\n",
      "09/22/2021  06:21 PM            18,378 Exercise for Lesson 3 problem 2.ipynb\n",
      "09/22/2021  09:54 PM            22,035 Exercise for Lesson 3 problem 3.ipynb\n",
      "09/21/2021  08:41 AM            10,827 Lesson 1.ipynb\n",
      "09/22/2021  08:49 AM            13,126 Lesson 2.ipynb\n",
      "09/22/2021  04:45 PM             9,748 Lesson 3.ipynb\n",
      "09/27/2021  09:25 AM             8,897 Lesson 4.ipynb\n",
      "09/26/2021  05:15 PM               296 temp_converter.py\n",
      "              10 File(s)        130,602 bytes\n",
      "               4 Dir(s)  288,235,581,440 bytes free\n"
     ]
    }
   ],
   "source": [
    "%ls"
   ]
  },
  {
   "cell_type": "code",
   "execution_count": 9,
   "id": "449926ec",
   "metadata": {},
   "outputs": [
    {
     "name": "stdout",
     "output_type": "stream",
     "text": [
      "The freezing point of water in Fahrenheit is: 32.0\n"
     ]
    }
   ],
   "source": [
    "from temp_converter import celsius_to_fahr\n",
    "\n",
    "print(\"The freezing point of water in Fahrenheit is:\", celsius_to_fahr(0))"
   ]
  },
  {
   "cell_type": "code",
   "execution_count": 10,
   "id": "41965779",
   "metadata": {},
   "outputs": [
    {
     "name": "stdout",
     "output_type": "stream",
     "text": [
      "The freezing point of water in Fahrenheit is: 32.0\n",
      "Absolute zero in Celsius is: -273.15\n",
      "Absolute zero in Fahrenheit is: -459.66999999999996\n"
     ]
    }
   ],
   "source": [
    "import temp_converter as tc\n",
    "print(\"The freezing point of water in Fahrenheit is:\", tc.celsius_to_fahr(0))\n",
    "print('Absolute zero in Celsius is:', tc.kelvins_to_celsius(temp_kelvins=0))\n",
    "print('Absolute zero in Fahrenheit is:', tc.kelvins_to_fahr(temp_kelvins=0))"
   ]
  },
  {
   "cell_type": "code",
   "execution_count": 11,
   "id": "9e2bcc41",
   "metadata": {},
   "outputs": [],
   "source": [
    "def temp_calculator(temp_k, convert_to):\n",
    "    \"\"\"\n",
    "    Function for converting temperature in Kelvins to Celsius or Fahrenheit.\n",
    "\n",
    "    Parameters\n",
    "    ----------\n",
    "    temp_k: <numerical>\n",
    "        Temperature in Kelvins\n",
    "    convert_to: <str>\n",
    "        Target temperature that can be either Celsius ('C') or Fahrenheit ('F'). Supported values: 'C' | 'F'\n",
    "\n",
    "    Returns\n",
    "    -------\n",
    "    <float>\n",
    "        Converted temperature.\n",
    "    \"\"\"\n",
    "\n",
    "    # Check if user wants the temperature in Celsius\n",
    "    if convert_to == \"C\":\n",
    "        # Convert the value to Celsius using the dedicated function for the task that we imported from another script\n",
    "        converted_temp = kelvins_to_celsius(temp_kelvins=temp_k)\n",
    "    elif convert_to == \"F\":\n",
    "        # Convert the value to Fahrenheit using the dedicated function for the task that we imported from another script\n",
    "        converted_temp = kelvins_to_fahr(temp_kelvins=temp_k)\n",
    "    # Return the result\n",
    "    return converted_temp"
   ]
  },
  {
   "cell_type": "code",
   "execution_count": 12,
   "id": "2ea62fc9",
   "metadata": {},
   "outputs": [],
   "source": [
    "import temp_converter as tc"
   ]
  },
  {
   "cell_type": "code",
   "execution_count": 13,
   "id": "71eca083",
   "metadata": {},
   "outputs": [
    {
     "ename": "AttributeError",
     "evalue": "module 'temp_converter' has no attribute 'temp_calculator'",
     "output_type": "error",
     "traceback": [
      "\u001b[1;31m---------------------------------------------------------------------------\u001b[0m",
      "\u001b[1;31mAttributeError\u001b[0m                            Traceback (most recent call last)",
      "\u001b[1;32m<ipython-input-13-f9d392d20ce1>\u001b[0m in \u001b[0;36m<module>\u001b[1;34m\u001b[0m\n\u001b[0;32m      1\u001b[0m \u001b[0mtemp_kelvin\u001b[0m \u001b[1;33m=\u001b[0m \u001b[1;36m30\u001b[0m\u001b[1;33m\u001b[0m\u001b[1;33m\u001b[0m\u001b[0m\n\u001b[1;32m----> 2\u001b[1;33m \u001b[0mtemperature_c\u001b[0m \u001b[1;33m=\u001b[0m \u001b[0mtc\u001b[0m\u001b[1;33m.\u001b[0m\u001b[0mtemp_calculator\u001b[0m\u001b[1;33m(\u001b[0m\u001b[0mtemp_k\u001b[0m\u001b[1;33m=\u001b[0m\u001b[0mtemp_kelvin\u001b[0m\u001b[1;33m,\u001b[0m \u001b[0mconvert_to\u001b[0m\u001b[1;33m=\u001b[0m\u001b[1;34m\"C\"\u001b[0m\u001b[1;33m)\u001b[0m\u001b[1;33m\u001b[0m\u001b[1;33m\u001b[0m\u001b[0m\n\u001b[0m\u001b[0;32m      3\u001b[0m \u001b[0mprint\u001b[0m\u001b[1;33m(\u001b[0m\u001b[1;34m\"Temperature\"\u001b[0m\u001b[1;33m,\u001b[0m \u001b[0mtemp_kelvin\u001b[0m\u001b[1;33m,\u001b[0m \u001b[1;34m\"in Kelvins is\"\u001b[0m\u001b[1;33m,\u001b[0m \u001b[0mtemperature_c\u001b[0m\u001b[1;33m,\u001b[0m \u001b[1;34m\"in Celsius\"\u001b[0m\u001b[1;33m)\u001b[0m\u001b[1;33m\u001b[0m\u001b[1;33m\u001b[0m\u001b[0m\n",
      "\u001b[1;31mAttributeError\u001b[0m: module 'temp_converter' has no attribute 'temp_calculator'"
     ]
    }
   ],
   "source": [
    "temp_kelvin = 30\n",
    "temperature_c = tc.temp_calculator(temp_k=temp_kelvin, convert_to=\"C\")\n",
    "print(\"Temperature\", temp_kelvin, \"in Kelvins is\", temperature_c, \"in Celsius\")"
   ]
  },
  {
   "cell_type": "code",
   "execution_count": null,
   "id": "1dcbfcad",
   "metadata": {},
   "outputs": [],
   "source": []
  }
 ],
 "metadata": {
  "kernelspec": {
   "display_name": "Python 3",
   "language": "python",
   "name": "python3"
  },
  "language_info": {
   "codemirror_mode": {
    "name": "ipython",
    "version": 3
   },
   "file_extension": ".py",
   "mimetype": "text/x-python",
   "name": "python",
   "nbconvert_exporter": "python",
   "pygments_lexer": "ipython3",
   "version": "3.8.8"
  }
 },
 "nbformat": 4,
 "nbformat_minor": 5
}
